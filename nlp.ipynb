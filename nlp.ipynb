{
  "nbformat": 4,
  "nbformat_minor": 0,
  "metadata": {
    "colab": {
      "name": "nlp.ipynb",
      "provenance": [],
      "collapsed_sections": [],
      "authorship_tag": "ABX9TyMFBCf4MRa96clWAoymzfNA",
      "include_colab_link": true
    },
    "kernelspec": {
      "name": "python3",
      "display_name": "Python 3"
    }
  },
  "cells": [
    {
      "cell_type": "markdown",
      "metadata": {
        "id": "view-in-github",
        "colab_type": "text"
      },
      "source": [
        "<a href=\"https://colab.research.google.com/github/rajuiit/NLP-TF-IDF-and-Bigram-Text-Processing/blob/main/nlp.ipynb\" target=\"_parent\"><img src=\"https://colab.research.google.com/assets/colab-badge.svg\" alt=\"Open In Colab\"/></a>"
      ]
    },
    {
      "cell_type": "code",
      "metadata": {
        "colab": {
          "base_uri": "https://localhost:8080/"
        },
        "id": "hGm2S-uTjcVg",
        "outputId": "be65dadb-45a8-4d05-a7e6-5aef759c29d3"
      },
      "source": [
        "import nltk\n",
        "nltk.download('punkt')"
      ],
      "execution_count": null,
      "outputs": [
        {
          "output_type": "stream",
          "text": [
            "[nltk_data] Downloading package punkt to /root/nltk_data...\n",
            "[nltk_data]   Unzipping tokenizers/punkt.zip.\n"
          ],
          "name": "stdout"
        },
        {
          "output_type": "execute_result",
          "data": {
            "text/plain": [
              "True"
            ]
          },
          "metadata": {
            "tags": []
          },
          "execution_count": 2
        }
      ]
    },
    {
      "cell_type": "code",
      "metadata": {
        "colab": {
          "base_uri": "https://localhost:8080/"
        },
        "id": "belPORX4hmaz",
        "outputId": "6c497b23-2b02-4b0a-8bef-e8284f965baa"
      },
      "source": [
        "import nltk\n",
        "from nltk.util import ngrams\n",
        " \n",
        "# Function to generate n-grams from sentences.\n",
        "def extract_ngrams(data, num):\n",
        "    n_grams = ngrams(nltk.word_tokenize(data), num)\n",
        "    return [ ' '.join(grams) for grams in n_grams]\n",
        " \n",
        "data = 'must be the truth'\n",
        " \n",
        "print(\"1-gram: \", extract_ngrams(data, 1))\n",
        "print(\"2-gram: \", extract_ngrams(data, 2))\n",
        "print(\"3-gram: \", extract_ngrams(data, 3))\n",
        "print(\"4-gram: \", extract_ngrams(data, 4))"
      ],
      "execution_count": null,
      "outputs": [
        {
          "output_type": "stream",
          "text": [
            "1-gram:  ['must', 'be', 'the', 'truth']\n",
            "2-gram:  ['must be', 'be the', 'the truth']\n",
            "3-gram:  ['must be the', 'be the truth']\n",
            "4-gram:  ['must be the truth']\n"
          ],
          "name": "stdout"
        }
      ]
    },
    {
      "cell_type": "markdown",
      "metadata": {
        "id": "XKrlfFkS25p-"
      },
      "source": [
        "#TF-IDF"
      ]
    },
    {
      "cell_type": "code",
      "metadata": {
        "id": "6Oyd_f6hjbJn"
      },
      "source": [
        "import numpy as np\n",
        "from sklearn.feature_extraction.text import CountVectorizer\n",
        "from sklearn.feature_extraction.text import TfidfTransformer, TfidfVectorizer\n",
        "from collections import Counter\n",
        "docs = np.array([\n",
        "    'a a b c',\n",
        "    'a c c c d e f',\n",
        "    'a c d d d',\n",
        "    'a d f'\n",
        "])"
      ],
      "execution_count": null,
      "outputs": []
    },
    {
      "cell_type": "code",
      "metadata": {
        "colab": {
          "base_uri": "https://localhost:8080/"
        },
        "id": "IYuSVK-k4J9M",
        "outputId": "cb3ee273-0b58-446c-8eca-cf1aae14a2b1"
      },
      "source": [
        "countVectorizer = CountVectorizer(analyzer='char')\n",
        "tf = countVectorizer.fit_transform(docs).toarray()\n",
        "tf"
      ],
      "execution_count": null,
      "outputs": [
        {
          "output_type": "execute_result",
          "data": {
            "text/plain": [
              "array([[3, 2, 1, 1, 0, 0, 0],\n",
              "       [6, 1, 0, 3, 1, 1, 1],\n",
              "       [4, 1, 0, 1, 3, 0, 0],\n",
              "       [2, 1, 0, 0, 1, 0, 1]])"
            ]
          },
          "metadata": {
            "tags": []
          },
          "execution_count": 30
        }
      ]
    },
    {
      "cell_type": "code",
      "metadata": {
        "colab": {
          "base_uri": "https://localhost:8080/"
        },
        "id": "k9wbCYPh2-Gu",
        "outputId": "5f71f197-9c26-4a78-d7b6-c4904be8b540"
      },
      "source": [
        "# compute manually the tfidf score for the first document\n",
        "n_docs = len(docs)\n",
        "df = np.sum(tf != 0, axis = 0)\n",
        "idf = np.log(n_docs / df) + 1\n",
        "tf_idf = tf[2] * idf\n",
        "print(tf_idf)"
      ],
      "execution_count": null,
      "outputs": [
        {
          "output_type": "stream",
          "text": [
            "[4.         1.         0.         1.28768207 3.86304622 0.\n",
            " 0.        ]\n"
          ],
          "name": "stdout"
        }
      ]
    },
    {
      "cell_type": "code",
      "metadata": {
        "id": "-SVBVjbn7gyt"
      },
      "source": [
        "import pandas as pd\n",
        "import sklearn as sk\n",
        "import math\n",
        "import nltk\n",
        "from nltk.corpus import stopwords"
      ],
      "execution_count": null,
      "outputs": []
    },
    {
      "cell_type": "code",
      "metadata": {
        "id": "EW0_j54Y_ycj"
      },
      "source": [
        "def computeTF(wordDict, doc):\n",
        "    \"\"\"\n",
        "        tf(t,d) = count of t in d / number of words in d\n",
        "\n",
        "    :param wordDict:\n",
        "    :param doc:\n",
        "    :return:\n",
        "    \"\"\"\n",
        "    tfDict = {}\n",
        "    corpusCount = len(doc)\n",
        "    for word, count in wordDict.items():\n",
        "        tfDict[word] = count/float(corpusCount)\n",
        "    return(tfDict)\n",
        "\n",
        "def computeIDF(docList):\n",
        "    \"\"\"\n",
        "        idf(t) = log(N/(df + 1))\n",
        "    :param docList:\n",
        "    :return:\n",
        "    \"\"\"\n",
        "    idfDict = {}\n",
        "    N = len(docList)\n",
        "\n",
        "    idfDict = dict.fromkeys(docList[0].keys(), 0)\n",
        "    for word, val in idfDict.items():\n",
        "        idfDict[word] = math.log10(N / (float(val) + 1))\n",
        "\n",
        "    return (idfDict)\n",
        "\n",
        "def computeTFIDF(tfBow, idfs):\n",
        "    \"\"\"\n",
        "    tf-idf(t, d) = tf(t, d) * log(N/(df + 1))\n",
        "    :param tfBow:\n",
        "    :param idfs:\n",
        "    :return:\n",
        "    \"\"\"\n",
        "    tfidf = {}\n",
        "    for word, val in tfBow.items():\n",
        "        tfidf[word] = val*idfs[word]\n",
        "    return(tfidf)"
      ],
      "execution_count": null,
      "outputs": []
    },
    {
      "cell_type": "code",
      "metadata": {
        "id": "Uv5bqF0D_4i6"
      },
      "source": [
        "sentence1 = \"a a b c\"\n",
        "sentence2 = \"a c c c d e f\"\n",
        "sentence3 = \"a c d d d\"\n",
        "sentence4 = \"a d f\""
      ],
      "execution_count": null,
      "outputs": []
    },
    {
      "cell_type": "code",
      "metadata": {
        "colab": {
          "base_uri": "https://localhost:8080/"
        },
        "id": "D5Bl4GNzAnhj",
        "outputId": "17dfd270-8e83-449d-efbd-56680a253019"
      },
      "source": [
        "#split so each word have their own string\n",
        "sentence1_list = nltk.word_tokenize(sentence1)\n",
        "sentence2_list = nltk.word_tokenize(sentence2)\n",
        "sentence3_list = nltk.word_tokenize(sentence3)\n",
        "sentence4_list = nltk.word_tokenize(sentence4)\n",
        "total= set(sentence1_list).union(set(sentence2_list)).union(set(sentence3_list)).union(set(sentence4_list))\n",
        "print (total)"
      ],
      "execution_count": null,
      "outputs": [
        {
          "output_type": "stream",
          "text": [
            "{'e', 'd', 'a', 'f', 'b', 'c'}\n"
          ],
          "name": "stdout"
        }
      ]
    },
    {
      "cell_type": "code",
      "metadata": {
        "colab": {
          "base_uri": "https://localhost:8080/"
        },
        "id": "SRhfQkNNApfN",
        "outputId": "67b882e6-9b8d-4f9c-8f51-dc398c67a985"
      },
      "source": [
        "def create_word_dict(total, sentence):\n",
        "    wordDict = dict.fromkeys(total, 0)\n",
        "    for word in sentence:\n",
        "        wordDict[word] += 1\n",
        "    return wordDict\n",
        "\n",
        "wordDictA = create_word_dict(total,sentence1_list)\n",
        "wordDictB = create_word_dict(total,sentence2_list)\n",
        "wordDictC = create_word_dict(total,sentence3_list)\n",
        "wordDictD = create_word_dict(total,sentence4_list)\n",
        "\n",
        "print (wordDictA)\n",
        "print()\n",
        "print (wordDictB)\n",
        "print()\n",
        "print (wordDictC)\n",
        "print()\n",
        "print (wordDictD)"
      ],
      "execution_count": null,
      "outputs": [
        {
          "output_type": "stream",
          "text": [
            "{'e': 0, 'd': 0, 'a': 2, 'f': 0, 'b': 1, 'c': 1}\n",
            "\n",
            "{'e': 1, 'd': 1, 'a': 1, 'f': 1, 'b': 0, 'c': 3}\n",
            "\n",
            "{'e': 0, 'd': 3, 'a': 1, 'f': 0, 'b': 0, 'c': 1}\n",
            "\n",
            "{'e': 0, 'd': 1, 'a': 1, 'f': 1, 'b': 0, 'c': 0}\n"
          ],
          "name": "stdout"
        }
      ]
    },
    {
      "cell_type": "code",
      "metadata": {
        "colab": {
          "base_uri": "https://localhost:8080/"
        },
        "id": "ojojTu8pBOO9",
        "outputId": "11cd6cd2-0b85-4020-8e08-f7f9b63bda49"
      },
      "source": [
        "tfFirst = computeTF(wordDictA, sentence1_list)\n",
        "tfSecond = computeTF(wordDictB, sentence2_list)\n",
        "tfThird = computeTF(wordDictC, sentence3_list)\n",
        "tfFour = computeTF(wordDictD, sentence4_list)\n",
        "print (\"TERM FREQUENCY OF SENTENCE1:\\n\",tfFirst)\n",
        "print()\n",
        "print (\"TERM FREQUENCY OF SENTENCE2:\\n\",tfSecond)\n",
        "print()\n",
        "print (\"TERM FREQUENCY OF SENTENCE3:\\n\",tfThird)\n",
        "print()\n",
        "print (\"TERM FREQUENCY OF SENTENCE4:\\n\",tfFour)"
      ],
      "execution_count": null,
      "outputs": [
        {
          "output_type": "stream",
          "text": [
            "TERM FREQUENCY OF SENTENCE1:\n",
            " {'e': 0.0, 'd': 0.0, 'a': 0.5, 'f': 0.0, 'b': 0.25, 'c': 0.25}\n",
            "\n",
            "TERM FREQUENCY OF SENTENCE2:\n",
            " {'e': 0.14285714285714285, 'd': 0.14285714285714285, 'a': 0.14285714285714285, 'f': 0.14285714285714285, 'b': 0.0, 'c': 0.42857142857142855}\n",
            "\n",
            "TERM FREQUENCY OF SENTENCE3:\n",
            " {'e': 0.0, 'd': 0.6, 'a': 0.2, 'f': 0.0, 'b': 0.0, 'c': 0.2}\n",
            "\n",
            "TERM FREQUENCY OF SENTENCE4:\n",
            " {'e': 0.0, 'd': 0.3333333333333333, 'a': 0.3333333333333333, 'f': 0.3333333333333333, 'b': 0.0, 'c': 0.0}\n"
          ],
          "name": "stdout"
        }
      ]
    },
    {
      "cell_type": "code",
      "metadata": {
        "colab": {
          "base_uri": "https://localhost:8080/"
        },
        "id": "T6hsb-L-BqtV",
        "outputId": "0eccea21-a044-460a-8fc7-47cc7c39f78a"
      },
      "source": [
        "idfs = computeIDF([wordDictA, wordDictB, wordDictC, wordDictD])\n",
        "\n",
        "idfs"
      ],
      "execution_count": null,
      "outputs": [
        {
          "output_type": "execute_result",
          "data": {
            "text/plain": [
              "{'a': 0.6020599913279624,\n",
              " 'b': 0.6020599913279624,\n",
              " 'c': 0.6020599913279624,\n",
              " 'd': 0.6020599913279624,\n",
              " 'e': 0.6020599913279624,\n",
              " 'f': 0.6020599913279624}"
            ]
          },
          "metadata": {
            "tags": []
          },
          "execution_count": 55
        }
      ]
    },
    {
      "cell_type": "code",
      "metadata": {
        "colab": {
          "base_uri": "https://localhost:8080/"
        },
        "id": "-Ykk6MvbB1iL",
        "outputId": "c287db37-566b-4b38-cddb-9e67bac2abbe"
      },
      "source": [
        "#running our two sentences through the IDF:\n",
        "idfFirst = computeTFIDF(tfFirst, idfs)\n",
        "idfSecond = computeTFIDF(tfSecond, idfs)\n",
        "idfThird = computeTFIDF(tfThird, idfs)\n",
        "idfFour = computeTFIDF(tfFour, idfs)\n",
        "print (idfFirst)\n",
        "print()\n",
        "print (idfSecond)\n",
        "print()\n",
        "print (idfThird)\n",
        "print()\n",
        "print (idfFour)"
      ],
      "execution_count": null,
      "outputs": [
        {
          "output_type": "stream",
          "text": [
            "{'e': 0.0, 'd': 0.0, 'a': 0.3010299956639812, 'f': 0.0, 'b': 0.1505149978319906, 'c': 0.1505149978319906}\n",
            "\n",
            "{'e': 0.08600857018970891, 'd': 0.08600857018970891, 'a': 0.08600857018970891, 'f': 0.08600857018970891, 'b': 0.0, 'c': 0.2580257105691267}\n",
            "\n",
            "{'e': 0.0, 'd': 0.3612359947967774, 'a': 0.12041199826559248, 'f': 0.0, 'b': 0.0, 'c': 0.12041199826559248}\n",
            "\n",
            "{'e': 0.0, 'd': 0.20068666377598746, 'a': 0.20068666377598746, 'f': 0.20068666377598746, 'b': 0.0, 'c': 0.0}\n"
          ],
          "name": "stdout"
        }
      ]
    },
    {
      "cell_type": "code",
      "metadata": {
        "colab": {
          "base_uri": "https://localhost:8080/",
          "height": 173
        },
        "id": "Fza9r8YJCIeK",
        "outputId": "73d5d6da-8933-4abe-ec2d-b44f7e9bcb19"
      },
      "source": [
        "#putting it in a dataframe\n",
        "idf = pd.DataFrame([idfFirst, idfSecond, idfThird,idfFour ])\n",
        "idf.head()"
      ],
      "execution_count": null,
      "outputs": [
        {
          "output_type": "execute_result",
          "data": {
            "text/html": [
              "<div>\n",
              "<style scoped>\n",
              "    .dataframe tbody tr th:only-of-type {\n",
              "        vertical-align: middle;\n",
              "    }\n",
              "\n",
              "    .dataframe tbody tr th {\n",
              "        vertical-align: top;\n",
              "    }\n",
              "\n",
              "    .dataframe thead th {\n",
              "        text-align: right;\n",
              "    }\n",
              "</style>\n",
              "<table border=\"1\" class=\"dataframe\">\n",
              "  <thead>\n",
              "    <tr style=\"text-align: right;\">\n",
              "      <th></th>\n",
              "      <th>e</th>\n",
              "      <th>d</th>\n",
              "      <th>a</th>\n",
              "      <th>f</th>\n",
              "      <th>b</th>\n",
              "      <th>c</th>\n",
              "    </tr>\n",
              "  </thead>\n",
              "  <tbody>\n",
              "    <tr>\n",
              "      <th>0</th>\n",
              "      <td>0.000000</td>\n",
              "      <td>0.000000</td>\n",
              "      <td>0.301030</td>\n",
              "      <td>0.000000</td>\n",
              "      <td>0.150515</td>\n",
              "      <td>0.150515</td>\n",
              "    </tr>\n",
              "    <tr>\n",
              "      <th>1</th>\n",
              "      <td>0.086009</td>\n",
              "      <td>0.086009</td>\n",
              "      <td>0.086009</td>\n",
              "      <td>0.086009</td>\n",
              "      <td>0.000000</td>\n",
              "      <td>0.258026</td>\n",
              "    </tr>\n",
              "    <tr>\n",
              "      <th>2</th>\n",
              "      <td>0.000000</td>\n",
              "      <td>0.361236</td>\n",
              "      <td>0.120412</td>\n",
              "      <td>0.000000</td>\n",
              "      <td>0.000000</td>\n",
              "      <td>0.120412</td>\n",
              "    </tr>\n",
              "    <tr>\n",
              "      <th>3</th>\n",
              "      <td>0.000000</td>\n",
              "      <td>0.200687</td>\n",
              "      <td>0.200687</td>\n",
              "      <td>0.200687</td>\n",
              "      <td>0.000000</td>\n",
              "      <td>0.000000</td>\n",
              "    </tr>\n",
              "  </tbody>\n",
              "</table>\n",
              "</div>"
            ],
            "text/plain": [
              "          e         d         a         f         b         c\n",
              "0  0.000000  0.000000  0.301030  0.000000  0.150515  0.150515\n",
              "1  0.086009  0.086009  0.086009  0.086009  0.000000  0.258026\n",
              "2  0.000000  0.361236  0.120412  0.000000  0.000000  0.120412\n",
              "3  0.000000  0.200687  0.200687  0.200687  0.000000  0.000000"
            ]
          },
          "metadata": {
            "tags": []
          },
          "execution_count": 57
        }
      ]
    },
    {
      "cell_type": "markdown",
      "metadata": {
        "id": "9DnQ0yKa-vWo"
      },
      "source": [
        "#Bi-Gram Text Preprocessing"
      ]
    },
    {
      "cell_type": "code",
      "metadata": {
        "colab": {
          "base_uri": "https://localhost:8080/"
        },
        "id": "_IEnlqZh-1nj",
        "outputId": "0c3228ac-575b-4069-f40c-a3174a144a5b"
      },
      "source": [
        "import pandas as pd\n",
        "\n",
        "from google.colab import drive\n",
        "drive.mount('/content/gdrive')\n"
      ],
      "execution_count": null,
      "outputs": [
        {
          "output_type": "stream",
          "text": [
            "Drive already mounted at /content/gdrive; to attempt to forcibly remount, call drive.mount(\"/content/gdrive\", force_remount=True).\n"
          ],
          "name": "stdout"
        }
      ]
    },
    {
      "cell_type": "code",
      "metadata": {
        "colab": {
          "base_uri": "https://localhost:8080/"
        },
        "id": "UUp-vBKiHPL1",
        "outputId": "1089c7b8-9bdb-49a3-bfe6-29bc0e932708"
      },
      "source": [
        "input_str = open('gdrive/My Drive/Colab Notebooks/NLP/nlp-exercise/Chopin.txt')\n",
        "input_str = input_str.read()\n",
        "#input_str = input_str.lower()\n",
        "print(input_str)"
      ],
      "execution_count": null,
      "outputs": [
        {
          "output_type": "stream",
          "text": [
            "\"The Story of An Hour\"\n",
            "Kate Chopin (1894)\n",
            "\n",
            "Knowing that Mrs. Mallard was afflicted with a heart trouble, great care was taken to break to her as gently as possible the news of her husband's death.\n",
            "It was her sister Josephine who told her, in broken sentences; veiled hints that revealed in half concealing. Her husband's friend Richards was there, too, near her. It was he who had been in the newspaper office when intelligence of the railroad disaster was received, with Brently Mallard's name leading the list of \"killed.\" He had only taken the time to assure himself of its truth by a second telegram, and had hastened to forestall any less careful, less tender friend in bearing the sad message.\n",
            "\n",
            "She did not hear the story as many women have heard the same, with a paralyzed inability to accept its significance. She wept at once, with sudden, wild abandonment, in her sister's arms. When the storm of grief had spent itself she went away to her room alone. She would have no one follow her.\n",
            "\n",
            "There stood, facing the open window, a comfortable, roomy armchair. Into this she sank, pressed down by a physical exhaustion that haunted her body and seemed to reach into her soul.\n",
            "\n",
            "She could see in the open square before her house the tops of trees that were all aquiver with the new spring life. The delicious breath of rain was in the air. In the street below a peddler was crying his wares. The notes of a distant song which some one was singing reached her faintly, and countless sparrows were twittering in the eaves.\n",
            "\n",
            "There were patches of blue sky showing here and there through the clouds that had met and piled one above the other in the west facing her window.\n",
            "\n",
            "She sat with her head thrown back upon the cushion of the chair, quite motionless, except when a sob came up into her throat and shook her, as a child who has cried itself to sleep continues to sob in its dreams.\n",
            "\n",
            "She was young, with a fair, calm face, whose lines bespoke repression and even a certain strength. But now there was a dull stare in her eyes, whose gaze was fixed away off yonder on one of those patches of blue sky. It was not a glance of reflection, but rather indicated a suspension of intelligent thought.\n",
            "\n",
            "There was something coming to her and she was waiting for it, fearfully. What was it? She did not know; it was too subtle and elusive to name. But she felt it, creeping out of the sky, reaching toward her through the sounds, the scents, the color that filled the air.\n",
            "\n",
            "Now her bosom rose and fell tumultuously. She was beginning to recognize this thing that was approaching to possess her, and she was striving to beat it back with her will -- as powerless as her two white slender hands would have been. When she abandoned herself a little whispered word escaped her slightly parted lips. She said it over and over under her breath: \"free, free, free!\" The vacant stare and the look of terror that had followed it went from her eyes. They stayed keen and bright. Her pulses beat fast, and the coursing blood warmed and relaxed every inch of her body.\n",
            "\n",
            "She did not stop to ask if it were or were not a monstrous joy that held her. A clear and exalted perception enabled her to dismiss the suggestion as trivial. She knew that she would weep again when she saw the kind, tender hands folded in death; the face that had never looked save with love upon her, fixed and gray and dead. But she saw beyond that bitter moment a long procession of years to come that would belong to her absolutely. And she opened and spread her arms out to them in welcome.\n",
            "\n",
            "There would be no one to live for during those coming years; she would live for herself. There would be no powerful will bending hers in that blind persistence with which men and women believe they have a right to impose a private will upon a fellow-creature. A kind intention or a cruel intention made the act seem no less a crime as she looked upon it in that brief moment of illumination.\n",
            "\n",
            "And yet she had loved him -- sometimes. Often she had not. What did it matter! What could love, the unsolved mystery, count for in the face of this possession of self-assertion which she suddenly recognized as the strongest impulse of her being!\n",
            "\n",
            "\"Free! Body and soul free!\" she kept whispering.\n",
            "\n",
            "Josephine was kneeling before the closed door with her lips to the keyhold, imploring for admission. \"Louise, open the door! I beg; open the door--you will make yourself ill. What are you doing, Louise? For heaven's sake open the door.\"\n",
            "\n",
            "\"Go away. I am not making myself ill.\" No; she was drinking in a very elixir of life through that open window.\n",
            "\n",
            "Her fancy was running riot along those days ahead of her. Spring days, and summer days, and all sorts of days that would be her own. She breathed a quick prayer that life might be long. It was only yesterday she had thought with a shudder that life might be long.\n",
            "\n",
            "She arose at length and opened the door to her sister's importunities. There was a feverish triumph in her eyes, and she carried herself unwittingly like a goddess of Victory. She clasped her sister's waist, and together they descended the stairs. Richards stood waiting for them at the bottom.\n",
            "\n",
            "Some one was opening the front door with a latchkey. It was Brently Mallard who entered, a little travel-stained, composedly carrying his grip-sack and umbrella. He had been far from the scene of the accident, and did not even know there had been one. He stood amazed at Josephine's piercing cry; at Richards' quick motion to screen him from the view of his wife.\n",
            "\n",
            "When the doctors came they said she had died of heart disease -- of the joy that kills.\n"
          ],
          "name": "stdout"
        }
      ]
    },
    {
      "cell_type": "code",
      "metadata": {
        "id": "n5AqlcbVKdir"
      },
      "source": [
        "import re\n",
        "#input_str = re.sub(r'\\d+', '', input_str)"
      ],
      "execution_count": null,
      "outputs": []
    },
    {
      "cell_type": "code",
      "metadata": {
        "colab": {
          "base_uri": "https://localhost:8080/"
        },
        "id": "vmyPEyV5WzWj",
        "outputId": "2fa0caef-d089-4f5a-b999-6552981d98db"
      },
      "source": [
        "import nltk\n",
        "nltk.download('stopwords')\n",
        "nltk.download('wordnet')"
      ],
      "execution_count": null,
      "outputs": [
        {
          "output_type": "stream",
          "text": [
            "[nltk_data] Downloading package stopwords to /root/nltk_data...\n",
            "[nltk_data]   Package stopwords is already up-to-date!\n",
            "[nltk_data] Downloading package wordnet to /root/nltk_data...\n",
            "[nltk_data]   Package wordnet is already up-to-date!\n"
          ],
          "name": "stdout"
        },
        {
          "output_type": "execute_result",
          "data": {
            "text/plain": [
              "True"
            ]
          },
          "metadata": {
            "tags": []
          },
          "execution_count": 216
        }
      ]
    },
    {
      "cell_type": "code",
      "metadata": {
        "id": "Qch4oO9uLqUG"
      },
      "source": [
        "import nltk\n",
        "from nltk.tokenize import RegexpTokenizer\n",
        "from nltk.stem import WordNetLemmatizer,PorterStemmer\n",
        "from nltk.corpus import stopwords\n",
        "import re\n",
        "lemmatizer = WordNetLemmatizer()\n",
        "stemmer = PorterStemmer() \n",
        "#def preprocess(sentence):\n",
        "    #sentence=str(sentence)\n",
        "    #sentence = sentence.lower()\n",
        "    #sentence=sentence.replace('{html}',\"\") \n",
        "    #rem_num = re.sub('[0-9]+', '', sentence)\n",
        "    #tokenizer = RegexpTokenizer(r'\\w+')\n",
        "    #tokens = tokenizer.tokenize(rem_num)  \n",
        "    #filtered_words = [w for w in rem_num if len(w) > 2 if not w in stopwords.words('english')]\n",
        "    #stem_words=[stemmer.stem(w) for w in filtered_words]\n",
        "    #lemma_words=[lemmatizer.lemmatize(w) for w in stem_words]\n",
        "    #return rem_num\n",
        "\n",
        "# = preprocess(input_str);\n"
      ],
      "execution_count": null,
      "outputs": []
    },
    {
      "cell_type": "code",
      "metadata": {
        "id": "nHOyNpd9xCke"
      },
      "source": [
        "sentence=str(input_str)\n",
        "sentence = sentence.lower()"
      ],
      "execution_count": null,
      "outputs": []
    },
    {
      "cell_type": "code",
      "metadata": {
        "colab": {
          "base_uri": "https://localhost:8080/"
        },
        "id": "hEROxiuWWyYV",
        "outputId": "a936dccc-d33b-45b4-dad6-ff22d4f002bd"
      },
      "source": [
        "print(sentence)"
      ],
      "execution_count": null,
      "outputs": [
        {
          "output_type": "stream",
          "text": [
            "\"the story of an hour\"\n",
            "kate chopin (1894)\n",
            "\n",
            "knowing that mrs. mallard was afflicted with a heart trouble, great care was taken to break to her as gently as possible the news of her husband's death.\n",
            "it was her sister josephine who told her, in broken sentences; veiled hints that revealed in half concealing. her husband's friend richards was there, too, near her. it was he who had been in the newspaper office when intelligence of the railroad disaster was received, with brently mallard's name leading the list of \"killed.\" he had only taken the time to assure himself of its truth by a second telegram, and had hastened to forestall any less careful, less tender friend in bearing the sad message.\n",
            "\n",
            "she did not hear the story as many women have heard the same, with a paralyzed inability to accept its significance. she wept at once, with sudden, wild abandonment, in her sister's arms. when the storm of grief had spent itself she went away to her room alone. she would have no one follow her.\n",
            "\n",
            "there stood, facing the open window, a comfortable, roomy armchair. into this she sank, pressed down by a physical exhaustion that haunted her body and seemed to reach into her soul.\n",
            "\n",
            "she could see in the open square before her house the tops of trees that were all aquiver with the new spring life. the delicious breath of rain was in the air. in the street below a peddler was crying his wares. the notes of a distant song which some one was singing reached her faintly, and countless sparrows were twittering in the eaves.\n",
            "\n",
            "there were patches of blue sky showing here and there through the clouds that had met and piled one above the other in the west facing her window.\n",
            "\n",
            "she sat with her head thrown back upon the cushion of the chair, quite motionless, except when a sob came up into her throat and shook her, as a child who has cried itself to sleep continues to sob in its dreams.\n",
            "\n",
            "she was young, with a fair, calm face, whose lines bespoke repression and even a certain strength. but now there was a dull stare in her eyes, whose gaze was fixed away off yonder on one of those patches of blue sky. it was not a glance of reflection, but rather indicated a suspension of intelligent thought.\n",
            "\n",
            "there was something coming to her and she was waiting for it, fearfully. what was it? she did not know; it was too subtle and elusive to name. but she felt it, creeping out of the sky, reaching toward her through the sounds, the scents, the color that filled the air.\n",
            "\n",
            "now her bosom rose and fell tumultuously. she was beginning to recognize this thing that was approaching to possess her, and she was striving to beat it back with her will -- as powerless as her two white slender hands would have been. when she abandoned herself a little whispered word escaped her slightly parted lips. she said it over and over under her breath: \"free, free, free!\" the vacant stare and the look of terror that had followed it went from her eyes. they stayed keen and bright. her pulses beat fast, and the coursing blood warmed and relaxed every inch of her body.\n",
            "\n",
            "she did not stop to ask if it were or were not a monstrous joy that held her. a clear and exalted perception enabled her to dismiss the suggestion as trivial. she knew that she would weep again when she saw the kind, tender hands folded in death; the face that had never looked save with love upon her, fixed and gray and dead. but she saw beyond that bitter moment a long procession of years to come that would belong to her absolutely. and she opened and spread her arms out to them in welcome.\n",
            "\n",
            "there would be no one to live for during those coming years; she would live for herself. there would be no powerful will bending hers in that blind persistence with which men and women believe they have a right to impose a private will upon a fellow-creature. a kind intention or a cruel intention made the act seem no less a crime as she looked upon it in that brief moment of illumination.\n",
            "\n",
            "and yet she had loved him -- sometimes. often she had not. what did it matter! what could love, the unsolved mystery, count for in the face of this possession of self-assertion which she suddenly recognized as the strongest impulse of her being!\n",
            "\n",
            "\"free! body and soul free!\" she kept whispering.\n",
            "\n",
            "josephine was kneeling before the closed door with her lips to the keyhold, imploring for admission. \"louise, open the door! i beg; open the door--you will make yourself ill. what are you doing, louise? for heaven's sake open the door.\"\n",
            "\n",
            "\"go away. i am not making myself ill.\" no; she was drinking in a very elixir of life through that open window.\n",
            "\n",
            "her fancy was running riot along those days ahead of her. spring days, and summer days, and all sorts of days that would be her own. she breathed a quick prayer that life might be long. it was only yesterday she had thought with a shudder that life might be long.\n",
            "\n",
            "she arose at length and opened the door to her sister's importunities. there was a feverish triumph in her eyes, and she carried herself unwittingly like a goddess of victory. she clasped her sister's waist, and together they descended the stairs. richards stood waiting for them at the bottom.\n",
            "\n",
            "some one was opening the front door with a latchkey. it was brently mallard who entered, a little travel-stained, composedly carrying his grip-sack and umbrella. he had been far from the scene of the accident, and did not even know there had been one. he stood amazed at josephine's piercing cry; at richards' quick motion to screen him from the view of his wife.\n",
            "\n",
            "when the doctors came they said she had died of heart disease -- of the joy that kills.\n"
          ],
          "name": "stdout"
        }
      ]
    },
    {
      "cell_type": "code",
      "metadata": {
        "colab": {
          "base_uri": "https://localhost:8080/"
        },
        "id": "DihhsaEmxLXX",
        "outputId": "eb70549d-1ba6-4af5-a740-a8e5f8ec9a9d"
      },
      "source": [
        "def remove_special_character(phrase, remove_number=False):\n",
        "  \"\"\"remove_special_character takes text and removes special charcters.\n",
        "     ref: https://stackoverflow.com/a/18082370/4084039\"\"\"\n",
        "\n",
        "  phrase = re.sub(\"\\S*\\d\\S*\", \"\", phrase).strip()\n",
        "  if remove_number:\n",
        "    phrase = re.sub('[^A-Za-z]+', ' ', phrase)\n",
        "  else:\n",
        "    phrase = re.sub('[^A-Za-z0-9]+', ' ', phrase)\n",
        "  return phrase\n",
        "\n",
        "processed_text = remove_special_character(sentence, True)\n",
        "print(processed_text)"
      ],
      "execution_count": null,
      "outputs": [
        {
          "output_type": "stream",
          "text": [
            " the story of an hour kate chopin knowing that mrs mallard was afflicted with a heart trouble great care was taken to break to her as gently as possible the news of her husband s death it was her sister josephine who told her in broken sentences veiled hints that revealed in half concealing her husband s friend richards was there too near her it was he who had been in the newspaper office when intelligence of the railroad disaster was received with brently mallard s name leading the list of killed he had only taken the time to assure himself of its truth by a second telegram and had hastened to forestall any less careful less tender friend in bearing the sad message she did not hear the story as many women have heard the same with a paralyzed inability to accept its significance she wept at once with sudden wild abandonment in her sister s arms when the storm of grief had spent itself she went away to her room alone she would have no one follow her there stood facing the open window a comfortable roomy armchair into this she sank pressed down by a physical exhaustion that haunted her body and seemed to reach into her soul she could see in the open square before her house the tops of trees that were all aquiver with the new spring life the delicious breath of rain was in the air in the street below a peddler was crying his wares the notes of a distant song which some one was singing reached her faintly and countless sparrows were twittering in the eaves there were patches of blue sky showing here and there through the clouds that had met and piled one above the other in the west facing her window she sat with her head thrown back upon the cushion of the chair quite motionless except when a sob came up into her throat and shook her as a child who has cried itself to sleep continues to sob in its dreams she was young with a fair calm face whose lines bespoke repression and even a certain strength but now there was a dull stare in her eyes whose gaze was fixed away off yonder on one of those patches of blue sky it was not a glance of reflection but rather indicated a suspension of intelligent thought there was something coming to her and she was waiting for it fearfully what was it she did not know it was too subtle and elusive to name but she felt it creeping out of the sky reaching toward her through the sounds the scents the color that filled the air now her bosom rose and fell tumultuously she was beginning to recognize this thing that was approaching to possess her and she was striving to beat it back with her will as powerless as her two white slender hands would have been when she abandoned herself a little whispered word escaped her slightly parted lips she said it over and over under her breath free free free the vacant stare and the look of terror that had followed it went from her eyes they stayed keen and bright her pulses beat fast and the coursing blood warmed and relaxed every inch of her body she did not stop to ask if it were or were not a monstrous joy that held her a clear and exalted perception enabled her to dismiss the suggestion as trivial she knew that she would weep again when she saw the kind tender hands folded in death the face that had never looked save with love upon her fixed and gray and dead but she saw beyond that bitter moment a long procession of years to come that would belong to her absolutely and she opened and spread her arms out to them in welcome there would be no one to live for during those coming years she would live for herself there would be no powerful will bending hers in that blind persistence with which men and women believe they have a right to impose a private will upon a fellow creature a kind intention or a cruel intention made the act seem no less a crime as she looked upon it in that brief moment of illumination and yet she had loved him sometimes often she had not what did it matter what could love the unsolved mystery count for in the face of this possession of self assertion which she suddenly recognized as the strongest impulse of her being free body and soul free she kept whispering josephine was kneeling before the closed door with her lips to the keyhold imploring for admission louise open the door i beg open the door you will make yourself ill what are you doing louise for heaven s sake open the door go away i am not making myself ill no she was drinking in a very elixir of life through that open window her fancy was running riot along those days ahead of her spring days and summer days and all sorts of days that would be her own she breathed a quick prayer that life might be long it was only yesterday she had thought with a shudder that life might be long she arose at length and opened the door to her sister s importunities there was a feverish triumph in her eyes and she carried herself unwittingly like a goddess of victory she clasped her sister s waist and together they descended the stairs richards stood waiting for them at the bottom some one was opening the front door with a latchkey it was brently mallard who entered a little travel stained composedly carrying his grip sack and umbrella he had been far from the scene of the accident and did not even know there had been one he stood amazed at josephine s piercing cry at richards quick motion to screen him from the view of his wife when the doctors came they said she had died of heart disease of the joy that kills \n"
          ],
          "name": "stdout"
        }
      ]
    },
    {
      "cell_type": "code",
      "metadata": {
        "colab": {
          "base_uri": "https://localhost:8080/"
        },
        "id": "Z8VU6LoDyzUW",
        "outputId": "6bb54cdc-7731-40b3-dc78-995c574c8a5d"
      },
      "source": [
        "processed_text = re.sub('[0-9]+', '', processed_text)\n",
        "print(processed_text)"
      ],
      "execution_count": null,
      "outputs": [
        {
          "output_type": "stream",
          "text": [
            " the story of an hour kate chopin knowing that mrs mallard was afflicted with a heart trouble great care was taken to break to her as gently as possible the news of her husband s death it was her sister josephine who told her in broken sentences veiled hints that revealed in half concealing her husband s friend richards was there too near her it was he who had been in the newspaper office when intelligence of the railroad disaster was received with brently mallard s name leading the list of killed he had only taken the time to assure himself of its truth by a second telegram and had hastened to forestall any less careful less tender friend in bearing the sad message she did not hear the story as many women have heard the same with a paralyzed inability to accept its significance she wept at once with sudden wild abandonment in her sister s arms when the storm of grief had spent itself she went away to her room alone she would have no one follow her there stood facing the open window a comfortable roomy armchair into this she sank pressed down by a physical exhaustion that haunted her body and seemed to reach into her soul she could see in the open square before her house the tops of trees that were all aquiver with the new spring life the delicious breath of rain was in the air in the street below a peddler was crying his wares the notes of a distant song which some one was singing reached her faintly and countless sparrows were twittering in the eaves there were patches of blue sky showing here and there through the clouds that had met and piled one above the other in the west facing her window she sat with her head thrown back upon the cushion of the chair quite motionless except when a sob came up into her throat and shook her as a child who has cried itself to sleep continues to sob in its dreams she was young with a fair calm face whose lines bespoke repression and even a certain strength but now there was a dull stare in her eyes whose gaze was fixed away off yonder on one of those patches of blue sky it was not a glance of reflection but rather indicated a suspension of intelligent thought there was something coming to her and she was waiting for it fearfully what was it she did not know it was too subtle and elusive to name but she felt it creeping out of the sky reaching toward her through the sounds the scents the color that filled the air now her bosom rose and fell tumultuously she was beginning to recognize this thing that was approaching to possess her and she was striving to beat it back with her will as powerless as her two white slender hands would have been when she abandoned herself a little whispered word escaped her slightly parted lips she said it over and over under her breath free free free the vacant stare and the look of terror that had followed it went from her eyes they stayed keen and bright her pulses beat fast and the coursing blood warmed and relaxed every inch of her body she did not stop to ask if it were or were not a monstrous joy that held her a clear and exalted perception enabled her to dismiss the suggestion as trivial she knew that she would weep again when she saw the kind tender hands folded in death the face that had never looked save with love upon her fixed and gray and dead but she saw beyond that bitter moment a long procession of years to come that would belong to her absolutely and she opened and spread her arms out to them in welcome there would be no one to live for during those coming years she would live for herself there would be no powerful will bending hers in that blind persistence with which men and women believe they have a right to impose a private will upon a fellow creature a kind intention or a cruel intention made the act seem no less a crime as she looked upon it in that brief moment of illumination and yet she had loved him sometimes often she had not what did it matter what could love the unsolved mystery count for in the face of this possession of self assertion which she suddenly recognized as the strongest impulse of her being free body and soul free she kept whispering josephine was kneeling before the closed door with her lips to the keyhold imploring for admission louise open the door i beg open the door you will make yourself ill what are you doing louise for heaven s sake open the door go away i am not making myself ill no she was drinking in a very elixir of life through that open window her fancy was running riot along those days ahead of her spring days and summer days and all sorts of days that would be her own she breathed a quick prayer that life might be long it was only yesterday she had thought with a shudder that life might be long she arose at length and opened the door to her sister s importunities there was a feverish triumph in her eyes and she carried herself unwittingly like a goddess of victory she clasped her sister s waist and together they descended the stairs richards stood waiting for them at the bottom some one was opening the front door with a latchkey it was brently mallard who entered a little travel stained composedly carrying his grip sack and umbrella he had been far from the scene of the accident and did not even know there had been one he stood amazed at josephine s piercing cry at richards quick motion to screen him from the view of his wife when the doctors came they said she had died of heart disease of the joy that kills \n"
          ],
          "name": "stdout"
        }
      ]
    },
    {
      "cell_type": "code",
      "metadata": {
        "colab": {
          "base_uri": "https://localhost:8080/"
        },
        "id": "-D6f0Lbly6DU",
        "outputId": "22e13a36-2c26-4d30-93c5-fff219bf2b40"
      },
      "source": [
        "stopwords= set(['a', 'an', 'and', 'as', 'at', 'for', 'from', 'in', 'into', 'of', 'on', 'or', 'the', 'to'])\n",
        "\n",
        "# ref: https://gist.github.com/sebleier/554280\n",
        "\n",
        "processed_text = ' '.join(e.lower() for e in processed_text.split() if e.lower() not in stopwords)\n",
        "print(processed_text)"
      ],
      "execution_count": null,
      "outputs": [
        {
          "output_type": "stream",
          "text": [
            "story hour kate chopin knowing that mrs mallard was afflicted with heart trouble great care was taken break her gently possible news her husband s death it was her sister josephine who told her broken sentences veiled hints that revealed half concealing her husband s friend richards was there too near her it was he who had been newspaper office when intelligence railroad disaster was received with brently mallard s name leading list killed he had only taken time assure himself its truth by second telegram had hastened forestall any less careful less tender friend bearing sad message she did not hear story many women have heard same with paralyzed inability accept its significance she wept once with sudden wild abandonment her sister s arms when storm grief had spent itself she went away her room alone she would have no one follow her there stood facing open window comfortable roomy armchair this she sank pressed down by physical exhaustion that haunted her body seemed reach her soul she could see open square before her house tops trees that were all aquiver with new spring life delicious breath rain was air street below peddler was crying his wares notes distant song which some one was singing reached her faintly countless sparrows were twittering eaves there were patches blue sky showing here there through clouds that had met piled one above other west facing her window she sat with her head thrown back upon cushion chair quite motionless except when sob came up her throat shook her child who has cried itself sleep continues sob its dreams she was young with fair calm face whose lines bespoke repression even certain strength but now there was dull stare her eyes whose gaze was fixed away off yonder one those patches blue sky it was not glance reflection but rather indicated suspension intelligent thought there was something coming her she was waiting it fearfully what was it she did not know it was too subtle elusive name but she felt it creeping out sky reaching toward her through sounds scents color that filled air now her bosom rose fell tumultuously she was beginning recognize this thing that was approaching possess her she was striving beat it back with her will powerless her two white slender hands would have been when she abandoned herself little whispered word escaped her slightly parted lips she said it over over under her breath free free free vacant stare look terror that had followed it went her eyes they stayed keen bright her pulses beat fast coursing blood warmed relaxed every inch her body she did not stop ask if it were were not monstrous joy that held her clear exalted perception enabled her dismiss suggestion trivial she knew that she would weep again when she saw kind tender hands folded death face that had never looked save with love upon her fixed gray dead but she saw beyond that bitter moment long procession years come that would belong her absolutely she opened spread her arms out them welcome there would be no one live during those coming years she would live herself there would be no powerful will bending hers that blind persistence with which men women believe they have right impose private will upon fellow creature kind intention cruel intention made act seem no less crime she looked upon it that brief moment illumination yet she had loved him sometimes often she had not what did it matter what could love unsolved mystery count face this possession self assertion which she suddenly recognized strongest impulse her being free body soul free she kept whispering josephine was kneeling before closed door with her lips keyhold imploring admission louise open door i beg open door you will make yourself ill what are you doing louise heaven s sake open door go away i am not making myself ill no she was drinking very elixir life through that open window her fancy was running riot along those days ahead her spring days summer days all sorts days that would be her own she breathed quick prayer that life might be long it was only yesterday she had thought with shudder that life might be long she arose length opened door her sister s importunities there was feverish triumph her eyes she carried herself unwittingly like goddess victory she clasped her sister s waist together they descended stairs richards stood waiting them bottom some one was opening front door with latchkey it was brently mallard who entered little travel stained composedly carrying his grip sack umbrella he had been far scene accident did not even know there had been one he stood amazed josephine s piercing cry richards quick motion screen him view his wife when doctors came they said she had died heart disease joy that kills\n"
          ],
          "name": "stdout"
        }
      ]
    },
    {
      "cell_type": "code",
      "metadata": {
        "colab": {
          "base_uri": "https://localhost:8080/"
        },
        "id": "E_Zwfrk0tyyG",
        "outputId": "8509635a-74a8-4bbd-eb1c-f1656da215f8"
      },
      "source": [
        "nltk.download('punkt')"
      ],
      "execution_count": null,
      "outputs": [
        {
          "output_type": "stream",
          "text": [
            "[nltk_data] Downloading package punkt to /root/nltk_data...\n",
            "[nltk_data]   Package punkt is already up-to-date!\n"
          ],
          "name": "stdout"
        },
        {
          "output_type": "execute_result",
          "data": {
            "text/plain": [
              "True"
            ]
          },
          "metadata": {
            "tags": []
          },
          "execution_count": 223
        }
      ]
    },
    {
      "cell_type": "code",
      "metadata": {
        "colab": {
          "base_uri": "https://localhost:8080/"
        },
        "id": "JgTcMGRQtYwg",
        "outputId": "a208a1fb-4212-4bc4-9987-990874abdf59"
      },
      "source": [
        "import nltk\n",
        "from nltk.util import ngrams\n",
        " \n",
        "# Function to generate n-grams from sentences.\n",
        "def extract_ngrams(data, num):\n",
        "    n_grams = ngrams(nltk.word_tokenize(data), num)\n",
        "    return [ ' '.join(grams) for grams in n_grams]\n",
        " \n",
        "print(extract_ngrams(processed_text, 2))"
      ],
      "execution_count": null,
      "outputs": [
        {
          "output_type": "stream",
          "text": [
            "['story hour', 'hour kate', 'kate chopin', 'chopin knowing', 'knowing that', 'that mrs', 'mrs mallard', 'mallard was', 'was afflicted', 'afflicted with', 'with heart', 'heart trouble', 'trouble great', 'great care', 'care was', 'was taken', 'taken break', 'break her', 'her gently', 'gently possible', 'possible news', 'news her', 'her husband', 'husband s', 's death', 'death it', 'it was', 'was her', 'her sister', 'sister josephine', 'josephine who', 'who told', 'told her', 'her broken', 'broken sentences', 'sentences veiled', 'veiled hints', 'hints that', 'that revealed', 'revealed half', 'half concealing', 'concealing her', 'her husband', 'husband s', 's friend', 'friend richards', 'richards was', 'was there', 'there too', 'too near', 'near her', 'her it', 'it was', 'was he', 'he who', 'who had', 'had been', 'been newspaper', 'newspaper office', 'office when', 'when intelligence', 'intelligence railroad', 'railroad disaster', 'disaster was', 'was received', 'received with', 'with brently', 'brently mallard', 'mallard s', 's name', 'name leading', 'leading list', 'list killed', 'killed he', 'he had', 'had only', 'only taken', 'taken time', 'time assure', 'assure himself', 'himself its', 'its truth', 'truth by', 'by second', 'second telegram', 'telegram had', 'had hastened', 'hastened forestall', 'forestall any', 'any less', 'less careful', 'careful less', 'less tender', 'tender friend', 'friend bearing', 'bearing sad', 'sad message', 'message she', 'she did', 'did not', 'not hear', 'hear story', 'story many', 'many women', 'women have', 'have heard', 'heard same', 'same with', 'with paralyzed', 'paralyzed inability', 'inability accept', 'accept its', 'its significance', 'significance she', 'she wept', 'wept once', 'once with', 'with sudden', 'sudden wild', 'wild abandonment', 'abandonment her', 'her sister', 'sister s', 's arms', 'arms when', 'when storm', 'storm grief', 'grief had', 'had spent', 'spent itself', 'itself she', 'she went', 'went away', 'away her', 'her room', 'room alone', 'alone she', 'she would', 'would have', 'have no', 'no one', 'one follow', 'follow her', 'her there', 'there stood', 'stood facing', 'facing open', 'open window', 'window comfortable', 'comfortable roomy', 'roomy armchair', 'armchair this', 'this she', 'she sank', 'sank pressed', 'pressed down', 'down by', 'by physical', 'physical exhaustion', 'exhaustion that', 'that haunted', 'haunted her', 'her body', 'body seemed', 'seemed reach', 'reach her', 'her soul', 'soul she', 'she could', 'could see', 'see open', 'open square', 'square before', 'before her', 'her house', 'house tops', 'tops trees', 'trees that', 'that were', 'were all', 'all aquiver', 'aquiver with', 'with new', 'new spring', 'spring life', 'life delicious', 'delicious breath', 'breath rain', 'rain was', 'was air', 'air street', 'street below', 'below peddler', 'peddler was', 'was crying', 'crying his', 'his wares', 'wares notes', 'notes distant', 'distant song', 'song which', 'which some', 'some one', 'one was', 'was singing', 'singing reached', 'reached her', 'her faintly', 'faintly countless', 'countless sparrows', 'sparrows were', 'were twittering', 'twittering eaves', 'eaves there', 'there were', 'were patches', 'patches blue', 'blue sky', 'sky showing', 'showing here', 'here there', 'there through', 'through clouds', 'clouds that', 'that had', 'had met', 'met piled', 'piled one', 'one above', 'above other', 'other west', 'west facing', 'facing her', 'her window', 'window she', 'she sat', 'sat with', 'with her', 'her head', 'head thrown', 'thrown back', 'back upon', 'upon cushion', 'cushion chair', 'chair quite', 'quite motionless', 'motionless except', 'except when', 'when sob', 'sob came', 'came up', 'up her', 'her throat', 'throat shook', 'shook her', 'her child', 'child who', 'who has', 'has cried', 'cried itself', 'itself sleep', 'sleep continues', 'continues sob', 'sob its', 'its dreams', 'dreams she', 'she was', 'was young', 'young with', 'with fair', 'fair calm', 'calm face', 'face whose', 'whose lines', 'lines bespoke', 'bespoke repression', 'repression even', 'even certain', 'certain strength', 'strength but', 'but now', 'now there', 'there was', 'was dull', 'dull stare', 'stare her', 'her eyes', 'eyes whose', 'whose gaze', 'gaze was', 'was fixed', 'fixed away', 'away off', 'off yonder', 'yonder one', 'one those', 'those patches', 'patches blue', 'blue sky', 'sky it', 'it was', 'was not', 'not glance', 'glance reflection', 'reflection but', 'but rather', 'rather indicated', 'indicated suspension', 'suspension intelligent', 'intelligent thought', 'thought there', 'there was', 'was something', 'something coming', 'coming her', 'her she', 'she was', 'was waiting', 'waiting it', 'it fearfully', 'fearfully what', 'what was', 'was it', 'it she', 'she did', 'did not', 'not know', 'know it', 'it was', 'was too', 'too subtle', 'subtle elusive', 'elusive name', 'name but', 'but she', 'she felt', 'felt it', 'it creeping', 'creeping out', 'out sky', 'sky reaching', 'reaching toward', 'toward her', 'her through', 'through sounds', 'sounds scents', 'scents color', 'color that', 'that filled', 'filled air', 'air now', 'now her', 'her bosom', 'bosom rose', 'rose fell', 'fell tumultuously', 'tumultuously she', 'she was', 'was beginning', 'beginning recognize', 'recognize this', 'this thing', 'thing that', 'that was', 'was approaching', 'approaching possess', 'possess her', 'her she', 'she was', 'was striving', 'striving beat', 'beat it', 'it back', 'back with', 'with her', 'her will', 'will powerless', 'powerless her', 'her two', 'two white', 'white slender', 'slender hands', 'hands would', 'would have', 'have been', 'been when', 'when she', 'she abandoned', 'abandoned herself', 'herself little', 'little whispered', 'whispered word', 'word escaped', 'escaped her', 'her slightly', 'slightly parted', 'parted lips', 'lips she', 'she said', 'said it', 'it over', 'over over', 'over under', 'under her', 'her breath', 'breath free', 'free free', 'free free', 'free vacant', 'vacant stare', 'stare look', 'look terror', 'terror that', 'that had', 'had followed', 'followed it', 'it went', 'went her', 'her eyes', 'eyes they', 'they stayed', 'stayed keen', 'keen bright', 'bright her', 'her pulses', 'pulses beat', 'beat fast', 'fast coursing', 'coursing blood', 'blood warmed', 'warmed relaxed', 'relaxed every', 'every inch', 'inch her', 'her body', 'body she', 'she did', 'did not', 'not stop', 'stop ask', 'ask if', 'if it', 'it were', 'were were', 'were not', 'not monstrous', 'monstrous joy', 'joy that', 'that held', 'held her', 'her clear', 'clear exalted', 'exalted perception', 'perception enabled', 'enabled her', 'her dismiss', 'dismiss suggestion', 'suggestion trivial', 'trivial she', 'she knew', 'knew that', 'that she', 'she would', 'would weep', 'weep again', 'again when', 'when she', 'she saw', 'saw kind', 'kind tender', 'tender hands', 'hands folded', 'folded death', 'death face', 'face that', 'that had', 'had never', 'never looked', 'looked save', 'save with', 'with love', 'love upon', 'upon her', 'her fixed', 'fixed gray', 'gray dead', 'dead but', 'but she', 'she saw', 'saw beyond', 'beyond that', 'that bitter', 'bitter moment', 'moment long', 'long procession', 'procession years', 'years come', 'come that', 'that would', 'would belong', 'belong her', 'her absolutely', 'absolutely she', 'she opened', 'opened spread', 'spread her', 'her arms', 'arms out', 'out them', 'them welcome', 'welcome there', 'there would', 'would be', 'be no', 'no one', 'one live', 'live during', 'during those', 'those coming', 'coming years', 'years she', 'she would', 'would live', 'live herself', 'herself there', 'there would', 'would be', 'be no', 'no powerful', 'powerful will', 'will bending', 'bending hers', 'hers that', 'that blind', 'blind persistence', 'persistence with', 'with which', 'which men', 'men women', 'women believe', 'believe they', 'they have', 'have right', 'right impose', 'impose private', 'private will', 'will upon', 'upon fellow', 'fellow creature', 'creature kind', 'kind intention', 'intention cruel', 'cruel intention', 'intention made', 'made act', 'act seem', 'seem no', 'no less', 'less crime', 'crime she', 'she looked', 'looked upon', 'upon it', 'it that', 'that brief', 'brief moment', 'moment illumination', 'illumination yet', 'yet she', 'she had', 'had loved', 'loved him', 'him sometimes', 'sometimes often', 'often she', 'she had', 'had not', 'not what', 'what did', 'did it', 'it matter', 'matter what', 'what could', 'could love', 'love unsolved', 'unsolved mystery', 'mystery count', 'count face', 'face this', 'this possession', 'possession self', 'self assertion', 'assertion which', 'which she', 'she suddenly', 'suddenly recognized', 'recognized strongest', 'strongest impulse', 'impulse her', 'her being', 'being free', 'free body', 'body soul', 'soul free', 'free she', 'she kept', 'kept whispering', 'whispering josephine', 'josephine was', 'was kneeling', 'kneeling before', 'before closed', 'closed door', 'door with', 'with her', 'her lips', 'lips keyhold', 'keyhold imploring', 'imploring admission', 'admission louise', 'louise open', 'open door', 'door i', 'i beg', 'beg open', 'open door', 'door you', 'you will', 'will make', 'make yourself', 'yourself ill', 'ill what', 'what are', 'are you', 'you doing', 'doing louise', 'louise heaven', 'heaven s', 's sake', 'sake open', 'open door', 'door go', 'go away', 'away i', 'i am', 'am not', 'not making', 'making myself', 'myself ill', 'ill no', 'no she', 'she was', 'was drinking', 'drinking very', 'very elixir', 'elixir life', 'life through', 'through that', 'that open', 'open window', 'window her', 'her fancy', 'fancy was', 'was running', 'running riot', 'riot along', 'along those', 'those days', 'days ahead', 'ahead her', 'her spring', 'spring days', 'days summer', 'summer days', 'days all', 'all sorts', 'sorts days', 'days that', 'that would', 'would be', 'be her', 'her own', 'own she', 'she breathed', 'breathed quick', 'quick prayer', 'prayer that', 'that life', 'life might', 'might be', 'be long', 'long it', 'it was', 'was only', 'only yesterday', 'yesterday she', 'she had', 'had thought', 'thought with', 'with shudder', 'shudder that', 'that life', 'life might', 'might be', 'be long', 'long she', 'she arose', 'arose length', 'length opened', 'opened door', 'door her', 'her sister', 'sister s', 's importunities', 'importunities there', 'there was', 'was feverish', 'feverish triumph', 'triumph her', 'her eyes', 'eyes she', 'she carried', 'carried herself', 'herself unwittingly', 'unwittingly like', 'like goddess', 'goddess victory', 'victory she', 'she clasped', 'clasped her', 'her sister', 'sister s', 's waist', 'waist together', 'together they', 'they descended', 'descended stairs', 'stairs richards', 'richards stood', 'stood waiting', 'waiting them', 'them bottom', 'bottom some', 'some one', 'one was', 'was opening', 'opening front', 'front door', 'door with', 'with latchkey', 'latchkey it', 'it was', 'was brently', 'brently mallard', 'mallard who', 'who entered', 'entered little', 'little travel', 'travel stained', 'stained composedly', 'composedly carrying', 'carrying his', 'his grip', 'grip sack', 'sack umbrella', 'umbrella he', 'he had', 'had been', 'been far', 'far scene', 'scene accident', 'accident did', 'did not', 'not even', 'even know', 'know there', 'there had', 'had been', 'been one', 'one he', 'he stood', 'stood amazed', 'amazed josephine', 'josephine s', 's piercing', 'piercing cry', 'cry richards', 'richards quick', 'quick motion', 'motion screen', 'screen him', 'him view', 'view his', 'his wife', 'wife when', 'when doctors', 'doctors came', 'came they', 'they said', 'said she', 'she had', 'had died', 'died heart', 'heart disease', 'disease joy', 'joy that', 'that kills']\n"
          ],
          "name": "stdout"
        }
      ]
    },
    {
      "cell_type": "code",
      "metadata": {
        "id": "_erXiJoPBNeu"
      },
      "source": [
        "from collections import Counter\n",
        "from nltk.util import ngrams"
      ],
      "execution_count": null,
      "outputs": []
    },
    {
      "cell_type": "code",
      "metadata": {
        "id": "IzpCTMfxBcW1"
      },
      "source": [
        "tokens = nltk.word_tokenize(processed_text)"
      ],
      "execution_count": null,
      "outputs": []
    },
    {
      "cell_type": "code",
      "metadata": {
        "colab": {
          "base_uri": "https://localhost:8080/"
        },
        "id": "2xrLQbTPL8gd",
        "outputId": "6d2f2085-9c0f-4a5b-ef0a-3cff051d2932"
      },
      "source": [
        "print(tokens)"
      ],
      "execution_count": null,
      "outputs": [
        {
          "output_type": "stream",
          "text": [
            "['story', 'hour', 'kate', 'chopin', 'knowing', 'that', 'mrs', 'mallard', 'was', 'afflicted', 'with', 'heart', 'trouble', 'great', 'care', 'was', 'taken', 'break', 'her', 'gently', 'possible', 'news', 'her', 'husband', 's', 'death', 'it', 'was', 'her', 'sister', 'josephine', 'who', 'told', 'her', 'broken', 'sentences', 'veiled', 'hints', 'that', 'revealed', 'half', 'concealing', 'her', 'husband', 's', 'friend', 'richards', 'was', 'there', 'too', 'near', 'her', 'it', 'was', 'he', 'who', 'had', 'been', 'newspaper', 'office', 'when', 'intelligence', 'railroad', 'disaster', 'was', 'received', 'with', 'brently', 'mallard', 's', 'name', 'leading', 'list', 'killed', 'he', 'had', 'only', 'taken', 'time', 'assure', 'himself', 'its', 'truth', 'by', 'second', 'telegram', 'had', 'hastened', 'forestall', 'any', 'less', 'careful', 'less', 'tender', 'friend', 'bearing', 'sad', 'message', 'she', 'did', 'not', 'hear', 'story', 'many', 'women', 'have', 'heard', 'same', 'with', 'paralyzed', 'inability', 'accept', 'its', 'significance', 'she', 'wept', 'once', 'with', 'sudden', 'wild', 'abandonment', 'her', 'sister', 's', 'arms', 'when', 'storm', 'grief', 'had', 'spent', 'itself', 'she', 'went', 'away', 'her', 'room', 'alone', 'she', 'would', 'have', 'no', 'one', 'follow', 'her', 'there', 'stood', 'facing', 'open', 'window', 'comfortable', 'roomy', 'armchair', 'this', 'she', 'sank', 'pressed', 'down', 'by', 'physical', 'exhaustion', 'that', 'haunted', 'her', 'body', 'seemed', 'reach', 'her', 'soul', 'she', 'could', 'see', 'open', 'square', 'before', 'her', 'house', 'tops', 'trees', 'that', 'were', 'all', 'aquiver', 'with', 'new', 'spring', 'life', 'delicious', 'breath', 'rain', 'was', 'air', 'street', 'below', 'peddler', 'was', 'crying', 'his', 'wares', 'notes', 'distant', 'song', 'which', 'some', 'one', 'was', 'singing', 'reached', 'her', 'faintly', 'countless', 'sparrows', 'were', 'twittering', 'eaves', 'there', 'were', 'patches', 'blue', 'sky', 'showing', 'here', 'there', 'through', 'clouds', 'that', 'had', 'met', 'piled', 'one', 'above', 'other', 'west', 'facing', 'her', 'window', 'she', 'sat', 'with', 'her', 'head', 'thrown', 'back', 'upon', 'cushion', 'chair', 'quite', 'motionless', 'except', 'when', 'sob', 'came', 'up', 'her', 'throat', 'shook', 'her', 'child', 'who', 'has', 'cried', 'itself', 'sleep', 'continues', 'sob', 'its', 'dreams', 'she', 'was', 'young', 'with', 'fair', 'calm', 'face', 'whose', 'lines', 'bespoke', 'repression', 'even', 'certain', 'strength', 'but', 'now', 'there', 'was', 'dull', 'stare', 'her', 'eyes', 'whose', 'gaze', 'was', 'fixed', 'away', 'off', 'yonder', 'one', 'those', 'patches', 'blue', 'sky', 'it', 'was', 'not', 'glance', 'reflection', 'but', 'rather', 'indicated', 'suspension', 'intelligent', 'thought', 'there', 'was', 'something', 'coming', 'her', 'she', 'was', 'waiting', 'it', 'fearfully', 'what', 'was', 'it', 'she', 'did', 'not', 'know', 'it', 'was', 'too', 'subtle', 'elusive', 'name', 'but', 'she', 'felt', 'it', 'creeping', 'out', 'sky', 'reaching', 'toward', 'her', 'through', 'sounds', 'scents', 'color', 'that', 'filled', 'air', 'now', 'her', 'bosom', 'rose', 'fell', 'tumultuously', 'she', 'was', 'beginning', 'recognize', 'this', 'thing', 'that', 'was', 'approaching', 'possess', 'her', 'she', 'was', 'striving', 'beat', 'it', 'back', 'with', 'her', 'will', 'powerless', 'her', 'two', 'white', 'slender', 'hands', 'would', 'have', 'been', 'when', 'she', 'abandoned', 'herself', 'little', 'whispered', 'word', 'escaped', 'her', 'slightly', 'parted', 'lips', 'she', 'said', 'it', 'over', 'over', 'under', 'her', 'breath', 'free', 'free', 'free', 'vacant', 'stare', 'look', 'terror', 'that', 'had', 'followed', 'it', 'went', 'her', 'eyes', 'they', 'stayed', 'keen', 'bright', 'her', 'pulses', 'beat', 'fast', 'coursing', 'blood', 'warmed', 'relaxed', 'every', 'inch', 'her', 'body', 'she', 'did', 'not', 'stop', 'ask', 'if', 'it', 'were', 'were', 'not', 'monstrous', 'joy', 'that', 'held', 'her', 'clear', 'exalted', 'perception', 'enabled', 'her', 'dismiss', 'suggestion', 'trivial', 'she', 'knew', 'that', 'she', 'would', 'weep', 'again', 'when', 'she', 'saw', 'kind', 'tender', 'hands', 'folded', 'death', 'face', 'that', 'had', 'never', 'looked', 'save', 'with', 'love', 'upon', 'her', 'fixed', 'gray', 'dead', 'but', 'she', 'saw', 'beyond', 'that', 'bitter', 'moment', 'long', 'procession', 'years', 'come', 'that', 'would', 'belong', 'her', 'absolutely', 'she', 'opened', 'spread', 'her', 'arms', 'out', 'them', 'welcome', 'there', 'would', 'be', 'no', 'one', 'live', 'during', 'those', 'coming', 'years', 'she', 'would', 'live', 'herself', 'there', 'would', 'be', 'no', 'powerful', 'will', 'bending', 'hers', 'that', 'blind', 'persistence', 'with', 'which', 'men', 'women', 'believe', 'they', 'have', 'right', 'impose', 'private', 'will', 'upon', 'fellow', 'creature', 'kind', 'intention', 'cruel', 'intention', 'made', 'act', 'seem', 'no', 'less', 'crime', 'she', 'looked', 'upon', 'it', 'that', 'brief', 'moment', 'illumination', 'yet', 'she', 'had', 'loved', 'him', 'sometimes', 'often', 'she', 'had', 'not', 'what', 'did', 'it', 'matter', 'what', 'could', 'love', 'unsolved', 'mystery', 'count', 'face', 'this', 'possession', 'self', 'assertion', 'which', 'she', 'suddenly', 'recognized', 'strongest', 'impulse', 'her', 'being', 'free', 'body', 'soul', 'free', 'she', 'kept', 'whispering', 'josephine', 'was', 'kneeling', 'before', 'closed', 'door', 'with', 'her', 'lips', 'keyhold', 'imploring', 'admission', 'louise', 'open', 'door', 'i', 'beg', 'open', 'door', 'you', 'will', 'make', 'yourself', 'ill', 'what', 'are', 'you', 'doing', 'louise', 'heaven', 's', 'sake', 'open', 'door', 'go', 'away', 'i', 'am', 'not', 'making', 'myself', 'ill', 'no', 'she', 'was', 'drinking', 'very', 'elixir', 'life', 'through', 'that', 'open', 'window', 'her', 'fancy', 'was', 'running', 'riot', 'along', 'those', 'days', 'ahead', 'her', 'spring', 'days', 'summer', 'days', 'all', 'sorts', 'days', 'that', 'would', 'be', 'her', 'own', 'she', 'breathed', 'quick', 'prayer', 'that', 'life', 'might', 'be', 'long', 'it', 'was', 'only', 'yesterday', 'she', 'had', 'thought', 'with', 'shudder', 'that', 'life', 'might', 'be', 'long', 'she', 'arose', 'length', 'opened', 'door', 'her', 'sister', 's', 'importunities', 'there', 'was', 'feverish', 'triumph', 'her', 'eyes', 'she', 'carried', 'herself', 'unwittingly', 'like', 'goddess', 'victory', 'she', 'clasped', 'her', 'sister', 's', 'waist', 'together', 'they', 'descended', 'stairs', 'richards', 'stood', 'waiting', 'them', 'bottom', 'some', 'one', 'was', 'opening', 'front', 'door', 'with', 'latchkey', 'it', 'was', 'brently', 'mallard', 'who', 'entered', 'little', 'travel', 'stained', 'composedly', 'carrying', 'his', 'grip', 'sack', 'umbrella', 'he', 'had', 'been', 'far', 'scene', 'accident', 'did', 'not', 'even', 'know', 'there', 'had', 'been', 'one', 'he', 'stood', 'amazed', 'josephine', 's', 'piercing', 'cry', 'richards', 'quick', 'motion', 'screen', 'him', 'view', 'his', 'wife', 'when', 'doctors', 'came', 'they', 'said', 'she', 'had', 'died', 'heart', 'disease', 'joy', 'that', 'kills']\n"
          ],
          "name": "stdout"
        }
      ]
    },
    {
      "cell_type": "code",
      "metadata": {
        "id": "0J0xutF8Mj7W"
      },
      "source": [
        "filtered_words = [w for w in tokens if len(w) >= 2]"
      ],
      "execution_count": null,
      "outputs": []
    },
    {
      "cell_type": "code",
      "metadata": {
        "colab": {
          "base_uri": "https://localhost:8080/"
        },
        "id": "HNjMgf8CM4fP",
        "outputId": "e89b3e45-774f-43ad-9dfd-70a23d25fba5"
      },
      "source": [
        "print(filtered_words)"
      ],
      "execution_count": null,
      "outputs": [
        {
          "output_type": "stream",
          "text": [
            "['story', 'hour', 'kate', 'chopin', 'knowing', 'that', 'mrs', 'mallard', 'was', 'afflicted', 'with', 'heart', 'trouble', 'great', 'care', 'was', 'taken', 'break', 'her', 'gently', 'possible', 'news', 'her', 'husband', 'death', 'it', 'was', 'her', 'sister', 'josephine', 'who', 'told', 'her', 'broken', 'sentences', 'veiled', 'hints', 'that', 'revealed', 'half', 'concealing', 'her', 'husband', 'friend', 'richards', 'was', 'there', 'too', 'near', 'her', 'it', 'was', 'he', 'who', 'had', 'been', 'newspaper', 'office', 'when', 'intelligence', 'railroad', 'disaster', 'was', 'received', 'with', 'brently', 'mallard', 'name', 'leading', 'list', 'killed', 'he', 'had', 'only', 'taken', 'time', 'assure', 'himself', 'its', 'truth', 'by', 'second', 'telegram', 'had', 'hastened', 'forestall', 'any', 'less', 'careful', 'less', 'tender', 'friend', 'bearing', 'sad', 'message', 'she', 'did', 'not', 'hear', 'story', 'many', 'women', 'have', 'heard', 'same', 'with', 'paralyzed', 'inability', 'accept', 'its', 'significance', 'she', 'wept', 'once', 'with', 'sudden', 'wild', 'abandonment', 'her', 'sister', 'arms', 'when', 'storm', 'grief', 'had', 'spent', 'itself', 'she', 'went', 'away', 'her', 'room', 'alone', 'she', 'would', 'have', 'no', 'one', 'follow', 'her', 'there', 'stood', 'facing', 'open', 'window', 'comfortable', 'roomy', 'armchair', 'this', 'she', 'sank', 'pressed', 'down', 'by', 'physical', 'exhaustion', 'that', 'haunted', 'her', 'body', 'seemed', 'reach', 'her', 'soul', 'she', 'could', 'see', 'open', 'square', 'before', 'her', 'house', 'tops', 'trees', 'that', 'were', 'all', 'aquiver', 'with', 'new', 'spring', 'life', 'delicious', 'breath', 'rain', 'was', 'air', 'street', 'below', 'peddler', 'was', 'crying', 'his', 'wares', 'notes', 'distant', 'song', 'which', 'some', 'one', 'was', 'singing', 'reached', 'her', 'faintly', 'countless', 'sparrows', 'were', 'twittering', 'eaves', 'there', 'were', 'patches', 'blue', 'sky', 'showing', 'here', 'there', 'through', 'clouds', 'that', 'had', 'met', 'piled', 'one', 'above', 'other', 'west', 'facing', 'her', 'window', 'she', 'sat', 'with', 'her', 'head', 'thrown', 'back', 'upon', 'cushion', 'chair', 'quite', 'motionless', 'except', 'when', 'sob', 'came', 'up', 'her', 'throat', 'shook', 'her', 'child', 'who', 'has', 'cried', 'itself', 'sleep', 'continues', 'sob', 'its', 'dreams', 'she', 'was', 'young', 'with', 'fair', 'calm', 'face', 'whose', 'lines', 'bespoke', 'repression', 'even', 'certain', 'strength', 'but', 'now', 'there', 'was', 'dull', 'stare', 'her', 'eyes', 'whose', 'gaze', 'was', 'fixed', 'away', 'off', 'yonder', 'one', 'those', 'patches', 'blue', 'sky', 'it', 'was', 'not', 'glance', 'reflection', 'but', 'rather', 'indicated', 'suspension', 'intelligent', 'thought', 'there', 'was', 'something', 'coming', 'her', 'she', 'was', 'waiting', 'it', 'fearfully', 'what', 'was', 'it', 'she', 'did', 'not', 'know', 'it', 'was', 'too', 'subtle', 'elusive', 'name', 'but', 'she', 'felt', 'it', 'creeping', 'out', 'sky', 'reaching', 'toward', 'her', 'through', 'sounds', 'scents', 'color', 'that', 'filled', 'air', 'now', 'her', 'bosom', 'rose', 'fell', 'tumultuously', 'she', 'was', 'beginning', 'recognize', 'this', 'thing', 'that', 'was', 'approaching', 'possess', 'her', 'she', 'was', 'striving', 'beat', 'it', 'back', 'with', 'her', 'will', 'powerless', 'her', 'two', 'white', 'slender', 'hands', 'would', 'have', 'been', 'when', 'she', 'abandoned', 'herself', 'little', 'whispered', 'word', 'escaped', 'her', 'slightly', 'parted', 'lips', 'she', 'said', 'it', 'over', 'over', 'under', 'her', 'breath', 'free', 'free', 'free', 'vacant', 'stare', 'look', 'terror', 'that', 'had', 'followed', 'it', 'went', 'her', 'eyes', 'they', 'stayed', 'keen', 'bright', 'her', 'pulses', 'beat', 'fast', 'coursing', 'blood', 'warmed', 'relaxed', 'every', 'inch', 'her', 'body', 'she', 'did', 'not', 'stop', 'ask', 'if', 'it', 'were', 'were', 'not', 'monstrous', 'joy', 'that', 'held', 'her', 'clear', 'exalted', 'perception', 'enabled', 'her', 'dismiss', 'suggestion', 'trivial', 'she', 'knew', 'that', 'she', 'would', 'weep', 'again', 'when', 'she', 'saw', 'kind', 'tender', 'hands', 'folded', 'death', 'face', 'that', 'had', 'never', 'looked', 'save', 'with', 'love', 'upon', 'her', 'fixed', 'gray', 'dead', 'but', 'she', 'saw', 'beyond', 'that', 'bitter', 'moment', 'long', 'procession', 'years', 'come', 'that', 'would', 'belong', 'her', 'absolutely', 'she', 'opened', 'spread', 'her', 'arms', 'out', 'them', 'welcome', 'there', 'would', 'be', 'no', 'one', 'live', 'during', 'those', 'coming', 'years', 'she', 'would', 'live', 'herself', 'there', 'would', 'be', 'no', 'powerful', 'will', 'bending', 'hers', 'that', 'blind', 'persistence', 'with', 'which', 'men', 'women', 'believe', 'they', 'have', 'right', 'impose', 'private', 'will', 'upon', 'fellow', 'creature', 'kind', 'intention', 'cruel', 'intention', 'made', 'act', 'seem', 'no', 'less', 'crime', 'she', 'looked', 'upon', 'it', 'that', 'brief', 'moment', 'illumination', 'yet', 'she', 'had', 'loved', 'him', 'sometimes', 'often', 'she', 'had', 'not', 'what', 'did', 'it', 'matter', 'what', 'could', 'love', 'unsolved', 'mystery', 'count', 'face', 'this', 'possession', 'self', 'assertion', 'which', 'she', 'suddenly', 'recognized', 'strongest', 'impulse', 'her', 'being', 'free', 'body', 'soul', 'free', 'she', 'kept', 'whispering', 'josephine', 'was', 'kneeling', 'before', 'closed', 'door', 'with', 'her', 'lips', 'keyhold', 'imploring', 'admission', 'louise', 'open', 'door', 'beg', 'open', 'door', 'you', 'will', 'make', 'yourself', 'ill', 'what', 'are', 'you', 'doing', 'louise', 'heaven', 'sake', 'open', 'door', 'go', 'away', 'am', 'not', 'making', 'myself', 'ill', 'no', 'she', 'was', 'drinking', 'very', 'elixir', 'life', 'through', 'that', 'open', 'window', 'her', 'fancy', 'was', 'running', 'riot', 'along', 'those', 'days', 'ahead', 'her', 'spring', 'days', 'summer', 'days', 'all', 'sorts', 'days', 'that', 'would', 'be', 'her', 'own', 'she', 'breathed', 'quick', 'prayer', 'that', 'life', 'might', 'be', 'long', 'it', 'was', 'only', 'yesterday', 'she', 'had', 'thought', 'with', 'shudder', 'that', 'life', 'might', 'be', 'long', 'she', 'arose', 'length', 'opened', 'door', 'her', 'sister', 'importunities', 'there', 'was', 'feverish', 'triumph', 'her', 'eyes', 'she', 'carried', 'herself', 'unwittingly', 'like', 'goddess', 'victory', 'she', 'clasped', 'her', 'sister', 'waist', 'together', 'they', 'descended', 'stairs', 'richards', 'stood', 'waiting', 'them', 'bottom', 'some', 'one', 'was', 'opening', 'front', 'door', 'with', 'latchkey', 'it', 'was', 'brently', 'mallard', 'who', 'entered', 'little', 'travel', 'stained', 'composedly', 'carrying', 'his', 'grip', 'sack', 'umbrella', 'he', 'had', 'been', 'far', 'scene', 'accident', 'did', 'not', 'even', 'know', 'there', 'had', 'been', 'one', 'he', 'stood', 'amazed', 'josephine', 'piercing', 'cry', 'richards', 'quick', 'motion', 'screen', 'him', 'view', 'his', 'wife', 'when', 'doctors', 'came', 'they', 'said', 'she', 'had', 'died', 'heart', 'disease', 'joy', 'that', 'kills']\n"
          ],
          "name": "stdout"
        }
      ]
    },
    {
      "cell_type": "code",
      "metadata": {
        "colab": {
          "base_uri": "https://localhost:8080/"
        },
        "id": "mCCUhtkRBTI0",
        "outputId": "3e1ffa24-e3d8-4df8-a4d0-c5cdea35eb60"
      },
      "source": [
        "bi_grams = list(ngrams(filtered_words, 2)) \n",
        "counter = Counter(bi_grams)\n",
        "counter.most_common()"
      ],
      "execution_count": null,
      "outputs": [
        {
          "output_type": "execute_result",
          "data": {
            "text/plain": [
              "[(('it', 'was'), 6),\n",
              " (('she', 'was'), 5),\n",
              " (('her', 'sister'), 4),\n",
              " (('did', 'not'), 4),\n",
              " (('she', 'had'), 4),\n",
              " (('had', 'been'), 3),\n",
              " (('she', 'did'), 3),\n",
              " (('she', 'would'), 3),\n",
              " (('that', 'had'), 3),\n",
              " (('with', 'her'), 3),\n",
              " (('there', 'was'), 3),\n",
              " (('her', 'eyes'), 3),\n",
              " (('would', 'be'), 3),\n",
              " (('open', 'door'), 3),\n",
              " (('her', 'husband'), 2),\n",
              " (('brently', 'mallard'), 2),\n",
              " (('he', 'had'), 2),\n",
              " (('would', 'have'), 2),\n",
              " (('no', 'one'), 2),\n",
              " (('open', 'window'), 2),\n",
              " (('her', 'body'), 2),\n",
              " (('some', 'one'), 2),\n",
              " (('one', 'was'), 2),\n",
              " (('patches', 'blue'), 2),\n",
              " (('blue', 'sky'), 2),\n",
              " (('her', 'she'), 2),\n",
              " (('but', 'she'), 2),\n",
              " (('when', 'she'), 2),\n",
              " (('free', 'free'), 2),\n",
              " (('joy', 'that'), 2),\n",
              " (('she', 'saw'), 2),\n",
              " (('that', 'would'), 2),\n",
              " (('there', 'would'), 2),\n",
              " (('be', 'no'), 2),\n",
              " (('door', 'with'), 2),\n",
              " (('that', 'life'), 2),\n",
              " (('life', 'might'), 2),\n",
              " (('might', 'be'), 2),\n",
              " (('be', 'long'), 2),\n",
              " (('story', 'hour'), 1),\n",
              " (('hour', 'kate'), 1),\n",
              " (('kate', 'chopin'), 1),\n",
              " (('chopin', 'knowing'), 1),\n",
              " (('knowing', 'that'), 1),\n",
              " (('that', 'mrs'), 1),\n",
              " (('mrs', 'mallard'), 1),\n",
              " (('mallard', 'was'), 1),\n",
              " (('was', 'afflicted'), 1),\n",
              " (('afflicted', 'with'), 1),\n",
              " (('with', 'heart'), 1),\n",
              " (('heart', 'trouble'), 1),\n",
              " (('trouble', 'great'), 1),\n",
              " (('great', 'care'), 1),\n",
              " (('care', 'was'), 1),\n",
              " (('was', 'taken'), 1),\n",
              " (('taken', 'break'), 1),\n",
              " (('break', 'her'), 1),\n",
              " (('her', 'gently'), 1),\n",
              " (('gently', 'possible'), 1),\n",
              " (('possible', 'news'), 1),\n",
              " (('news', 'her'), 1),\n",
              " (('husband', 'death'), 1),\n",
              " (('death', 'it'), 1),\n",
              " (('was', 'her'), 1),\n",
              " (('sister', 'josephine'), 1),\n",
              " (('josephine', 'who'), 1),\n",
              " (('who', 'told'), 1),\n",
              " (('told', 'her'), 1),\n",
              " (('her', 'broken'), 1),\n",
              " (('broken', 'sentences'), 1),\n",
              " (('sentences', 'veiled'), 1),\n",
              " (('veiled', 'hints'), 1),\n",
              " (('hints', 'that'), 1),\n",
              " (('that', 'revealed'), 1),\n",
              " (('revealed', 'half'), 1),\n",
              " (('half', 'concealing'), 1),\n",
              " (('concealing', 'her'), 1),\n",
              " (('husband', 'friend'), 1),\n",
              " (('friend', 'richards'), 1),\n",
              " (('richards', 'was'), 1),\n",
              " (('was', 'there'), 1),\n",
              " (('there', 'too'), 1),\n",
              " (('too', 'near'), 1),\n",
              " (('near', 'her'), 1),\n",
              " (('her', 'it'), 1),\n",
              " (('was', 'he'), 1),\n",
              " (('he', 'who'), 1),\n",
              " (('who', 'had'), 1),\n",
              " (('been', 'newspaper'), 1),\n",
              " (('newspaper', 'office'), 1),\n",
              " (('office', 'when'), 1),\n",
              " (('when', 'intelligence'), 1),\n",
              " (('intelligence', 'railroad'), 1),\n",
              " (('railroad', 'disaster'), 1),\n",
              " (('disaster', 'was'), 1),\n",
              " (('was', 'received'), 1),\n",
              " (('received', 'with'), 1),\n",
              " (('with', 'brently'), 1),\n",
              " (('mallard', 'name'), 1),\n",
              " (('name', 'leading'), 1),\n",
              " (('leading', 'list'), 1),\n",
              " (('list', 'killed'), 1),\n",
              " (('killed', 'he'), 1),\n",
              " (('had', 'only'), 1),\n",
              " (('only', 'taken'), 1),\n",
              " (('taken', 'time'), 1),\n",
              " (('time', 'assure'), 1),\n",
              " (('assure', 'himself'), 1),\n",
              " (('himself', 'its'), 1),\n",
              " (('its', 'truth'), 1),\n",
              " (('truth', 'by'), 1),\n",
              " (('by', 'second'), 1),\n",
              " (('second', 'telegram'), 1),\n",
              " (('telegram', 'had'), 1),\n",
              " (('had', 'hastened'), 1),\n",
              " (('hastened', 'forestall'), 1),\n",
              " (('forestall', 'any'), 1),\n",
              " (('any', 'less'), 1),\n",
              " (('less', 'careful'), 1),\n",
              " (('careful', 'less'), 1),\n",
              " (('less', 'tender'), 1),\n",
              " (('tender', 'friend'), 1),\n",
              " (('friend', 'bearing'), 1),\n",
              " (('bearing', 'sad'), 1),\n",
              " (('sad', 'message'), 1),\n",
              " (('message', 'she'), 1),\n",
              " (('not', 'hear'), 1),\n",
              " (('hear', 'story'), 1),\n",
              " (('story', 'many'), 1),\n",
              " (('many', 'women'), 1),\n",
              " (('women', 'have'), 1),\n",
              " (('have', 'heard'), 1),\n",
              " (('heard', 'same'), 1),\n",
              " (('same', 'with'), 1),\n",
              " (('with', 'paralyzed'), 1),\n",
              " (('paralyzed', 'inability'), 1),\n",
              " (('inability', 'accept'), 1),\n",
              " (('accept', 'its'), 1),\n",
              " (('its', 'significance'), 1),\n",
              " (('significance', 'she'), 1),\n",
              " (('she', 'wept'), 1),\n",
              " (('wept', 'once'), 1),\n",
              " (('once', 'with'), 1),\n",
              " (('with', 'sudden'), 1),\n",
              " (('sudden', 'wild'), 1),\n",
              " (('wild', 'abandonment'), 1),\n",
              " (('abandonment', 'her'), 1),\n",
              " (('sister', 'arms'), 1),\n",
              " (('arms', 'when'), 1),\n",
              " (('when', 'storm'), 1),\n",
              " (('storm', 'grief'), 1),\n",
              " (('grief', 'had'), 1),\n",
              " (('had', 'spent'), 1),\n",
              " (('spent', 'itself'), 1),\n",
              " (('itself', 'she'), 1),\n",
              " (('she', 'went'), 1),\n",
              " (('went', 'away'), 1),\n",
              " (('away', 'her'), 1),\n",
              " (('her', 'room'), 1),\n",
              " (('room', 'alone'), 1),\n",
              " (('alone', 'she'), 1),\n",
              " (('have', 'no'), 1),\n",
              " (('one', 'follow'), 1),\n",
              " (('follow', 'her'), 1),\n",
              " (('her', 'there'), 1),\n",
              " (('there', 'stood'), 1),\n",
              " (('stood', 'facing'), 1),\n",
              " (('facing', 'open'), 1),\n",
              " (('window', 'comfortable'), 1),\n",
              " (('comfortable', 'roomy'), 1),\n",
              " (('roomy', 'armchair'), 1),\n",
              " (('armchair', 'this'), 1),\n",
              " (('this', 'she'), 1),\n",
              " (('she', 'sank'), 1),\n",
              " (('sank', 'pressed'), 1),\n",
              " (('pressed', 'down'), 1),\n",
              " (('down', 'by'), 1),\n",
              " (('by', 'physical'), 1),\n",
              " (('physical', 'exhaustion'), 1),\n",
              " (('exhaustion', 'that'), 1),\n",
              " (('that', 'haunted'), 1),\n",
              " (('haunted', 'her'), 1),\n",
              " (('body', 'seemed'), 1),\n",
              " (('seemed', 'reach'), 1),\n",
              " (('reach', 'her'), 1),\n",
              " (('her', 'soul'), 1),\n",
              " (('soul', 'she'), 1),\n",
              " (('she', 'could'), 1),\n",
              " (('could', 'see'), 1),\n",
              " (('see', 'open'), 1),\n",
              " (('open', 'square'), 1),\n",
              " (('square', 'before'), 1),\n",
              " (('before', 'her'), 1),\n",
              " (('her', 'house'), 1),\n",
              " (('house', 'tops'), 1),\n",
              " (('tops', 'trees'), 1),\n",
              " (('trees', 'that'), 1),\n",
              " (('that', 'were'), 1),\n",
              " (('were', 'all'), 1),\n",
              " (('all', 'aquiver'), 1),\n",
              " (('aquiver', 'with'), 1),\n",
              " (('with', 'new'), 1),\n",
              " (('new', 'spring'), 1),\n",
              " (('spring', 'life'), 1),\n",
              " (('life', 'delicious'), 1),\n",
              " (('delicious', 'breath'), 1),\n",
              " (('breath', 'rain'), 1),\n",
              " (('rain', 'was'), 1),\n",
              " (('was', 'air'), 1),\n",
              " (('air', 'street'), 1),\n",
              " (('street', 'below'), 1),\n",
              " (('below', 'peddler'), 1),\n",
              " (('peddler', 'was'), 1),\n",
              " (('was', 'crying'), 1),\n",
              " (('crying', 'his'), 1),\n",
              " (('his', 'wares'), 1),\n",
              " (('wares', 'notes'), 1),\n",
              " (('notes', 'distant'), 1),\n",
              " (('distant', 'song'), 1),\n",
              " (('song', 'which'), 1),\n",
              " (('which', 'some'), 1),\n",
              " (('was', 'singing'), 1),\n",
              " (('singing', 'reached'), 1),\n",
              " (('reached', 'her'), 1),\n",
              " (('her', 'faintly'), 1),\n",
              " (('faintly', 'countless'), 1),\n",
              " (('countless', 'sparrows'), 1),\n",
              " (('sparrows', 'were'), 1),\n",
              " (('were', 'twittering'), 1),\n",
              " (('twittering', 'eaves'), 1),\n",
              " (('eaves', 'there'), 1),\n",
              " (('there', 'were'), 1),\n",
              " (('were', 'patches'), 1),\n",
              " (('sky', 'showing'), 1),\n",
              " (('showing', 'here'), 1),\n",
              " (('here', 'there'), 1),\n",
              " (('there', 'through'), 1),\n",
              " (('through', 'clouds'), 1),\n",
              " (('clouds', 'that'), 1),\n",
              " (('had', 'met'), 1),\n",
              " (('met', 'piled'), 1),\n",
              " (('piled', 'one'), 1),\n",
              " (('one', 'above'), 1),\n",
              " (('above', 'other'), 1),\n",
              " (('other', 'west'), 1),\n",
              " (('west', 'facing'), 1),\n",
              " (('facing', 'her'), 1),\n",
              " (('her', 'window'), 1),\n",
              " (('window', 'she'), 1),\n",
              " (('she', 'sat'), 1),\n",
              " (('sat', 'with'), 1),\n",
              " (('her', 'head'), 1),\n",
              " (('head', 'thrown'), 1),\n",
              " (('thrown', 'back'), 1),\n",
              " (('back', 'upon'), 1),\n",
              " (('upon', 'cushion'), 1),\n",
              " (('cushion', 'chair'), 1),\n",
              " (('chair', 'quite'), 1),\n",
              " (('quite', 'motionless'), 1),\n",
              " (('motionless', 'except'), 1),\n",
              " (('except', 'when'), 1),\n",
              " (('when', 'sob'), 1),\n",
              " (('sob', 'came'), 1),\n",
              " (('came', 'up'), 1),\n",
              " (('up', 'her'), 1),\n",
              " (('her', 'throat'), 1),\n",
              " (('throat', 'shook'), 1),\n",
              " (('shook', 'her'), 1),\n",
              " (('her', 'child'), 1),\n",
              " (('child', 'who'), 1),\n",
              " (('who', 'has'), 1),\n",
              " (('has', 'cried'), 1),\n",
              " (('cried', 'itself'), 1),\n",
              " (('itself', 'sleep'), 1),\n",
              " (('sleep', 'continues'), 1),\n",
              " (('continues', 'sob'), 1),\n",
              " (('sob', 'its'), 1),\n",
              " (('its', 'dreams'), 1),\n",
              " (('dreams', 'she'), 1),\n",
              " (('was', 'young'), 1),\n",
              " (('young', 'with'), 1),\n",
              " (('with', 'fair'), 1),\n",
              " (('fair', 'calm'), 1),\n",
              " (('calm', 'face'), 1),\n",
              " (('face', 'whose'), 1),\n",
              " (('whose', 'lines'), 1),\n",
              " (('lines', 'bespoke'), 1),\n",
              " (('bespoke', 'repression'), 1),\n",
              " (('repression', 'even'), 1),\n",
              " (('even', 'certain'), 1),\n",
              " (('certain', 'strength'), 1),\n",
              " (('strength', 'but'), 1),\n",
              " (('but', 'now'), 1),\n",
              " (('now', 'there'), 1),\n",
              " (('was', 'dull'), 1),\n",
              " (('dull', 'stare'), 1),\n",
              " (('stare', 'her'), 1),\n",
              " (('eyes', 'whose'), 1),\n",
              " (('whose', 'gaze'), 1),\n",
              " (('gaze', 'was'), 1),\n",
              " (('was', 'fixed'), 1),\n",
              " (('fixed', 'away'), 1),\n",
              " (('away', 'off'), 1),\n",
              " (('off', 'yonder'), 1),\n",
              " (('yonder', 'one'), 1),\n",
              " (('one', 'those'), 1),\n",
              " (('those', 'patches'), 1),\n",
              " (('sky', 'it'), 1),\n",
              " (('was', 'not'), 1),\n",
              " (('not', 'glance'), 1),\n",
              " (('glance', 'reflection'), 1),\n",
              " (('reflection', 'but'), 1),\n",
              " (('but', 'rather'), 1),\n",
              " (('rather', 'indicated'), 1),\n",
              " (('indicated', 'suspension'), 1),\n",
              " (('suspension', 'intelligent'), 1),\n",
              " (('intelligent', 'thought'), 1),\n",
              " (('thought', 'there'), 1),\n",
              " (('was', 'something'), 1),\n",
              " (('something', 'coming'), 1),\n",
              " (('coming', 'her'), 1),\n",
              " (('was', 'waiting'), 1),\n",
              " (('waiting', 'it'), 1),\n",
              " (('it', 'fearfully'), 1),\n",
              " (('fearfully', 'what'), 1),\n",
              " (('what', 'was'), 1),\n",
              " (('was', 'it'), 1),\n",
              " (('it', 'she'), 1),\n",
              " (('not', 'know'), 1),\n",
              " (('know', 'it'), 1),\n",
              " (('was', 'too'), 1),\n",
              " (('too', 'subtle'), 1),\n",
              " (('subtle', 'elusive'), 1),\n",
              " (('elusive', 'name'), 1),\n",
              " (('name', 'but'), 1),\n",
              " (('she', 'felt'), 1),\n",
              " (('felt', 'it'), 1),\n",
              " (('it', 'creeping'), 1),\n",
              " (('creeping', 'out'), 1),\n",
              " (('out', 'sky'), 1),\n",
              " (('sky', 'reaching'), 1),\n",
              " (('reaching', 'toward'), 1),\n",
              " (('toward', 'her'), 1),\n",
              " (('her', 'through'), 1),\n",
              " (('through', 'sounds'), 1),\n",
              " (('sounds', 'scents'), 1),\n",
              " (('scents', 'color'), 1),\n",
              " (('color', 'that'), 1),\n",
              " (('that', 'filled'), 1),\n",
              " (('filled', 'air'), 1),\n",
              " (('air', 'now'), 1),\n",
              " (('now', 'her'), 1),\n",
              " (('her', 'bosom'), 1),\n",
              " (('bosom', 'rose'), 1),\n",
              " (('rose', 'fell'), 1),\n",
              " (('fell', 'tumultuously'), 1),\n",
              " (('tumultuously', 'she'), 1),\n",
              " (('was', 'beginning'), 1),\n",
              " (('beginning', 'recognize'), 1),\n",
              " (('recognize', 'this'), 1),\n",
              " (('this', 'thing'), 1),\n",
              " (('thing', 'that'), 1),\n",
              " (('that', 'was'), 1),\n",
              " (('was', 'approaching'), 1),\n",
              " (('approaching', 'possess'), 1),\n",
              " (('possess', 'her'), 1),\n",
              " (('was', 'striving'), 1),\n",
              " (('striving', 'beat'), 1),\n",
              " (('beat', 'it'), 1),\n",
              " (('it', 'back'), 1),\n",
              " (('back', 'with'), 1),\n",
              " (('her', 'will'), 1),\n",
              " (('will', 'powerless'), 1),\n",
              " (('powerless', 'her'), 1),\n",
              " (('her', 'two'), 1),\n",
              " (('two', 'white'), 1),\n",
              " (('white', 'slender'), 1),\n",
              " (('slender', 'hands'), 1),\n",
              " (('hands', 'would'), 1),\n",
              " (('have', 'been'), 1),\n",
              " (('been', 'when'), 1),\n",
              " (('she', 'abandoned'), 1),\n",
              " (('abandoned', 'herself'), 1),\n",
              " (('herself', 'little'), 1),\n",
              " (('little', 'whispered'), 1),\n",
              " (('whispered', 'word'), 1),\n",
              " (('word', 'escaped'), 1),\n",
              " (('escaped', 'her'), 1),\n",
              " (('her', 'slightly'), 1),\n",
              " (('slightly', 'parted'), 1),\n",
              " (('parted', 'lips'), 1),\n",
              " (('lips', 'she'), 1),\n",
              " (('she', 'said'), 1),\n",
              " (('said', 'it'), 1),\n",
              " (('it', 'over'), 1),\n",
              " (('over', 'over'), 1),\n",
              " (('over', 'under'), 1),\n",
              " (('under', 'her'), 1),\n",
              " (('her', 'breath'), 1),\n",
              " (('breath', 'free'), 1),\n",
              " (('free', 'vacant'), 1),\n",
              " (('vacant', 'stare'), 1),\n",
              " (('stare', 'look'), 1),\n",
              " (('look', 'terror'), 1),\n",
              " (('terror', 'that'), 1),\n",
              " (('had', 'followed'), 1),\n",
              " (('followed', 'it'), 1),\n",
              " (('it', 'went'), 1),\n",
              " (('went', 'her'), 1),\n",
              " (('eyes', 'they'), 1),\n",
              " (('they', 'stayed'), 1),\n",
              " (('stayed', 'keen'), 1),\n",
              " (('keen', 'bright'), 1),\n",
              " (('bright', 'her'), 1),\n",
              " (('her', 'pulses'), 1),\n",
              " (('pulses', 'beat'), 1),\n",
              " (('beat', 'fast'), 1),\n",
              " (('fast', 'coursing'), 1),\n",
              " (('coursing', 'blood'), 1),\n",
              " (('blood', 'warmed'), 1),\n",
              " (('warmed', 'relaxed'), 1),\n",
              " (('relaxed', 'every'), 1),\n",
              " (('every', 'inch'), 1),\n",
              " (('inch', 'her'), 1),\n",
              " (('body', 'she'), 1),\n",
              " (('not', 'stop'), 1),\n",
              " (('stop', 'ask'), 1),\n",
              " (('ask', 'if'), 1),\n",
              " (('if', 'it'), 1),\n",
              " (('it', 'were'), 1),\n",
              " (('were', 'were'), 1),\n",
              " (('were', 'not'), 1),\n",
              " (('not', 'monstrous'), 1),\n",
              " (('monstrous', 'joy'), 1),\n",
              " (('that', 'held'), 1),\n",
              " (('held', 'her'), 1),\n",
              " (('her', 'clear'), 1),\n",
              " (('clear', 'exalted'), 1),\n",
              " (('exalted', 'perception'), 1),\n",
              " (('perception', 'enabled'), 1),\n",
              " (('enabled', 'her'), 1),\n",
              " (('her', 'dismiss'), 1),\n",
              " (('dismiss', 'suggestion'), 1),\n",
              " (('suggestion', 'trivial'), 1),\n",
              " (('trivial', 'she'), 1),\n",
              " (('she', 'knew'), 1),\n",
              " (('knew', 'that'), 1),\n",
              " (('that', 'she'), 1),\n",
              " (('would', 'weep'), 1),\n",
              " (('weep', 'again'), 1),\n",
              " (('again', 'when'), 1),\n",
              " (('saw', 'kind'), 1),\n",
              " (('kind', 'tender'), 1),\n",
              " (('tender', 'hands'), 1),\n",
              " (('hands', 'folded'), 1),\n",
              " (('folded', 'death'), 1),\n",
              " (('death', 'face'), 1),\n",
              " (('face', 'that'), 1),\n",
              " (('had', 'never'), 1),\n",
              " (('never', 'looked'), 1),\n",
              " (('looked', 'save'), 1),\n",
              " (('save', 'with'), 1),\n",
              " (('with', 'love'), 1),\n",
              " (('love', 'upon'), 1),\n",
              " (('upon', 'her'), 1),\n",
              " (('her', 'fixed'), 1),\n",
              " (('fixed', 'gray'), 1),\n",
              " (('gray', 'dead'), 1),\n",
              " (('dead', 'but'), 1),\n",
              " (('saw', 'beyond'), 1),\n",
              " (('beyond', 'that'), 1),\n",
              " (('that', 'bitter'), 1),\n",
              " (('bitter', 'moment'), 1),\n",
              " (('moment', 'long'), 1),\n",
              " (('long', 'procession'), 1),\n",
              " (('procession', 'years'), 1),\n",
              " (('years', 'come'), 1),\n",
              " (('come', 'that'), 1),\n",
              " (('would', 'belong'), 1),\n",
              " (('belong', 'her'), 1),\n",
              " (('her', 'absolutely'), 1),\n",
              " (('absolutely', 'she'), 1),\n",
              " (('she', 'opened'), 1),\n",
              " (('opened', 'spread'), 1),\n",
              " (('spread', 'her'), 1),\n",
              " (('her', 'arms'), 1),\n",
              " (('arms', 'out'), 1),\n",
              " (('out', 'them'), 1),\n",
              " (('them', 'welcome'), 1),\n",
              " (('welcome', 'there'), 1),\n",
              " (('one', 'live'), 1),\n",
              " (('live', 'during'), 1),\n",
              " (('during', 'those'), 1),\n",
              " (('those', 'coming'), 1),\n",
              " (('coming', 'years'), 1),\n",
              " (('years', 'she'), 1),\n",
              " (('would', 'live'), 1),\n",
              " (('live', 'herself'), 1),\n",
              " (('herself', 'there'), 1),\n",
              " (('no', 'powerful'), 1),\n",
              " (('powerful', 'will'), 1),\n",
              " (('will', 'bending'), 1),\n",
              " (('bending', 'hers'), 1),\n",
              " (('hers', 'that'), 1),\n",
              " (('that', 'blind'), 1),\n",
              " (('blind', 'persistence'), 1),\n",
              " (('persistence', 'with'), 1),\n",
              " (('with', 'which'), 1),\n",
              " (('which', 'men'), 1),\n",
              " (('men', 'women'), 1),\n",
              " (('women', 'believe'), 1),\n",
              " (('believe', 'they'), 1),\n",
              " (('they', 'have'), 1),\n",
              " (('have', 'right'), 1),\n",
              " (('right', 'impose'), 1),\n",
              " (('impose', 'private'), 1),\n",
              " (('private', 'will'), 1),\n",
              " (('will', 'upon'), 1),\n",
              " (('upon', 'fellow'), 1),\n",
              " (('fellow', 'creature'), 1),\n",
              " (('creature', 'kind'), 1),\n",
              " (('kind', 'intention'), 1),\n",
              " (('intention', 'cruel'), 1),\n",
              " (('cruel', 'intention'), 1),\n",
              " (('intention', 'made'), 1),\n",
              " (('made', 'act'), 1),\n",
              " (('act', 'seem'), 1),\n",
              " (('seem', 'no'), 1),\n",
              " (('no', 'less'), 1),\n",
              " (('less', 'crime'), 1),\n",
              " (('crime', 'she'), 1),\n",
              " (('she', 'looked'), 1),\n",
              " (('looked', 'upon'), 1),\n",
              " (('upon', 'it'), 1),\n",
              " (('it', 'that'), 1),\n",
              " (('that', 'brief'), 1),\n",
              " (('brief', 'moment'), 1),\n",
              " (('moment', 'illumination'), 1),\n",
              " (('illumination', 'yet'), 1),\n",
              " (('yet', 'she'), 1),\n",
              " (('had', 'loved'), 1),\n",
              " (('loved', 'him'), 1),\n",
              " (('him', 'sometimes'), 1),\n",
              " (('sometimes', 'often'), 1),\n",
              " (('often', 'she'), 1),\n",
              " (('had', 'not'), 1),\n",
              " (('not', 'what'), 1),\n",
              " (('what', 'did'), 1),\n",
              " (('did', 'it'), 1),\n",
              " (('it', 'matter'), 1),\n",
              " (('matter', 'what'), 1),\n",
              " (('what', 'could'), 1),\n",
              " (('could', 'love'), 1),\n",
              " (('love', 'unsolved'), 1),\n",
              " (('unsolved', 'mystery'), 1),\n",
              " (('mystery', 'count'), 1),\n",
              " (('count', 'face'), 1),\n",
              " (('face', 'this'), 1),\n",
              " (('this', 'possession'), 1),\n",
              " (('possession', 'self'), 1),\n",
              " (('self', 'assertion'), 1),\n",
              " (('assertion', 'which'), 1),\n",
              " (('which', 'she'), 1),\n",
              " (('she', 'suddenly'), 1),\n",
              " (('suddenly', 'recognized'), 1),\n",
              " (('recognized', 'strongest'), 1),\n",
              " (('strongest', 'impulse'), 1),\n",
              " (('impulse', 'her'), 1),\n",
              " (('her', 'being'), 1),\n",
              " (('being', 'free'), 1),\n",
              " (('free', 'body'), 1),\n",
              " (('body', 'soul'), 1),\n",
              " (('soul', 'free'), 1),\n",
              " (('free', 'she'), 1),\n",
              " (('she', 'kept'), 1),\n",
              " (('kept', 'whispering'), 1),\n",
              " (('whispering', 'josephine'), 1),\n",
              " (('josephine', 'was'), 1),\n",
              " (('was', 'kneeling'), 1),\n",
              " (('kneeling', 'before'), 1),\n",
              " (('before', 'closed'), 1),\n",
              " (('closed', 'door'), 1),\n",
              " (('her', 'lips'), 1),\n",
              " (('lips', 'keyhold'), 1),\n",
              " (('keyhold', 'imploring'), 1),\n",
              " (('imploring', 'admission'), 1),\n",
              " (('admission', 'louise'), 1),\n",
              " (('louise', 'open'), 1),\n",
              " (('door', 'beg'), 1),\n",
              " (('beg', 'open'), 1),\n",
              " (('door', 'you'), 1),\n",
              " (('you', 'will'), 1),\n",
              " (('will', 'make'), 1),\n",
              " (('make', 'yourself'), 1),\n",
              " (('yourself', 'ill'), 1),\n",
              " (('ill', 'what'), 1),\n",
              " (('what', 'are'), 1),\n",
              " (('are', 'you'), 1),\n",
              " (('you', 'doing'), 1),\n",
              " (('doing', 'louise'), 1),\n",
              " (('louise', 'heaven'), 1),\n",
              " (('heaven', 'sake'), 1),\n",
              " (('sake', 'open'), 1),\n",
              " (('door', 'go'), 1),\n",
              " (('go', 'away'), 1),\n",
              " (('away', 'am'), 1),\n",
              " (('am', 'not'), 1),\n",
              " (('not', 'making'), 1),\n",
              " (('making', 'myself'), 1),\n",
              " (('myself', 'ill'), 1),\n",
              " (('ill', 'no'), 1),\n",
              " (('no', 'she'), 1),\n",
              " (('was', 'drinking'), 1),\n",
              " (('drinking', 'very'), 1),\n",
              " (('very', 'elixir'), 1),\n",
              " (('elixir', 'life'), 1),\n",
              " (('life', 'through'), 1),\n",
              " (('through', 'that'), 1),\n",
              " (('that', 'open'), 1),\n",
              " (('window', 'her'), 1),\n",
              " (('her', 'fancy'), 1),\n",
              " (('fancy', 'was'), 1),\n",
              " (('was', 'running'), 1),\n",
              " (('running', 'riot'), 1),\n",
              " (('riot', 'along'), 1),\n",
              " (('along', 'those'), 1),\n",
              " (('those', 'days'), 1),\n",
              " (('days', 'ahead'), 1),\n",
              " (('ahead', 'her'), 1),\n",
              " (('her', 'spring'), 1),\n",
              " (('spring', 'days'), 1),\n",
              " (('days', 'summer'), 1),\n",
              " (('summer', 'days'), 1),\n",
              " (('days', 'all'), 1),\n",
              " (('all', 'sorts'), 1),\n",
              " (('sorts', 'days'), 1),\n",
              " (('days', 'that'), 1),\n",
              " (('be', 'her'), 1),\n",
              " (('her', 'own'), 1),\n",
              " (('own', 'she'), 1),\n",
              " (('she', 'breathed'), 1),\n",
              " (('breathed', 'quick'), 1),\n",
              " (('quick', 'prayer'), 1),\n",
              " (('prayer', 'that'), 1),\n",
              " (('long', 'it'), 1),\n",
              " (('was', 'only'), 1),\n",
              " (('only', 'yesterday'), 1),\n",
              " (('yesterday', 'she'), 1),\n",
              " (('had', 'thought'), 1),\n",
              " (('thought', 'with'), 1),\n",
              " (('with', 'shudder'), 1),\n",
              " (('shudder', 'that'), 1),\n",
              " (('long', 'she'), 1),\n",
              " (('she', 'arose'), 1),\n",
              " (('arose', 'length'), 1),\n",
              " (('length', 'opened'), 1),\n",
              " (('opened', 'door'), 1),\n",
              " (('door', 'her'), 1),\n",
              " (('sister', 'importunities'), 1),\n",
              " (('importunities', 'there'), 1),\n",
              " (('was', 'feverish'), 1),\n",
              " (('feverish', 'triumph'), 1),\n",
              " (('triumph', 'her'), 1),\n",
              " (('eyes', 'she'), 1),\n",
              " (('she', 'carried'), 1),\n",
              " (('carried', 'herself'), 1),\n",
              " (('herself', 'unwittingly'), 1),\n",
              " (('unwittingly', 'like'), 1),\n",
              " (('like', 'goddess'), 1),\n",
              " (('goddess', 'victory'), 1),\n",
              " (('victory', 'she'), 1),\n",
              " (('she', 'clasped'), 1),\n",
              " (('clasped', 'her'), 1),\n",
              " (('sister', 'waist'), 1),\n",
              " (('waist', 'together'), 1),\n",
              " (('together', 'they'), 1),\n",
              " (('they', 'descended'), 1),\n",
              " (('descended', 'stairs'), 1),\n",
              " (('stairs', 'richards'), 1),\n",
              " (('richards', 'stood'), 1),\n",
              " (('stood', 'waiting'), 1),\n",
              " (('waiting', 'them'), 1),\n",
              " (('them', 'bottom'), 1),\n",
              " (('bottom', 'some'), 1),\n",
              " (('was', 'opening'), 1),\n",
              " (('opening', 'front'), 1),\n",
              " (('front', 'door'), 1),\n",
              " (('with', 'latchkey'), 1),\n",
              " (('latchkey', 'it'), 1),\n",
              " (('was', 'brently'), 1),\n",
              " (('mallard', 'who'), 1),\n",
              " (('who', 'entered'), 1),\n",
              " (('entered', 'little'), 1),\n",
              " (('little', 'travel'), 1),\n",
              " (('travel', 'stained'), 1),\n",
              " (('stained', 'composedly'), 1),\n",
              " (('composedly', 'carrying'), 1),\n",
              " (('carrying', 'his'), 1),\n",
              " (('his', 'grip'), 1),\n",
              " (('grip', 'sack'), 1),\n",
              " (('sack', 'umbrella'), 1),\n",
              " (('umbrella', 'he'), 1),\n",
              " (('been', 'far'), 1),\n",
              " (('far', 'scene'), 1),\n",
              " (('scene', 'accident'), 1),\n",
              " (('accident', 'did'), 1),\n",
              " (('not', 'even'), 1),\n",
              " (('even', 'know'), 1),\n",
              " (('know', 'there'), 1),\n",
              " (('there', 'had'), 1),\n",
              " (('been', 'one'), 1),\n",
              " (('one', 'he'), 1),\n",
              " (('he', 'stood'), 1),\n",
              " (('stood', 'amazed'), 1),\n",
              " (('amazed', 'josephine'), 1),\n",
              " (('josephine', 'piercing'), 1),\n",
              " (('piercing', 'cry'), 1),\n",
              " (('cry', 'richards'), 1),\n",
              " (('richards', 'quick'), 1),\n",
              " (('quick', 'motion'), 1),\n",
              " (('motion', 'screen'), 1),\n",
              " (('screen', 'him'), 1),\n",
              " (('him', 'view'), 1),\n",
              " (('view', 'his'), 1),\n",
              " (('his', 'wife'), 1),\n",
              " (('wife', 'when'), 1),\n",
              " (('when', 'doctors'), 1),\n",
              " (('doctors', 'came'), 1),\n",
              " (('came', 'they'), 1),\n",
              " (('they', 'said'), 1),\n",
              " (('said', 'she'), 1),\n",
              " (('had', 'died'), 1),\n",
              " (('died', 'heart'), 1),\n",
              " (('heart', 'disease'), 1),\n",
              " (('disease', 'joy'), 1),\n",
              " (('that', 'kills'), 1)]"
            ]
          },
          "metadata": {
            "tags": []
          },
          "execution_count": 233
        }
      ]
    }
  ]
}